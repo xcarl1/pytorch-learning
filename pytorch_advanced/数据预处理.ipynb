{
 "cells": [
  {
   "cell_type": "code",
   "execution_count": 22,
   "id": "b52c8b41-e093-475d-994a-9bdc74215e64",
   "metadata": {},
   "outputs": [],
   "source": [
    "import os\n",
    "import pandas as pd\n",
    "import torch\n",
    "import numpy as np"
   ]
  },
  {
   "cell_type": "code",
   "execution_count": 8,
   "id": "d046c479-c824-46a6-bc8c-a1713fb3eafb",
   "metadata": {},
   "outputs": [
    {
     "name": "stdout",
     "output_type": "stream",
     "text": [
      "   NumRooms Alley   Price\n",
      "0       NaN  Pave  127500\n",
      "1       2.0   NaN  106000\n",
      "2       3.0   NaN  134500\n",
      "3       NaN   NaN  123900\n"
     ]
    },
    {
     "data": {
      "text/html": [
       "<div>\n",
       "<style scoped>\n",
       "    .dataframe tbody tr th:only-of-type {\n",
       "        vertical-align: middle;\n",
       "    }\n",
       "\n",
       "    .dataframe tbody tr th {\n",
       "        vertical-align: top;\n",
       "    }\n",
       "\n",
       "    .dataframe thead th {\n",
       "        text-align: right;\n",
       "    }\n",
       "</style>\n",
       "<table border=\"1\" class=\"dataframe\">\n",
       "  <thead>\n",
       "    <tr style=\"text-align: right;\">\n",
       "      <th></th>\n",
       "      <th>NumRooms</th>\n",
       "      <th>Alley</th>\n",
       "      <th>Price</th>\n",
       "    </tr>\n",
       "  </thead>\n",
       "  <tbody>\n",
       "    <tr>\n",
       "      <th>0</th>\n",
       "      <td>NaN</td>\n",
       "      <td>Pave</td>\n",
       "      <td>127500</td>\n",
       "    </tr>\n",
       "    <tr>\n",
       "      <th>1</th>\n",
       "      <td>2.0</td>\n",
       "      <td>NaN</td>\n",
       "      <td>106000</td>\n",
       "    </tr>\n",
       "    <tr>\n",
       "      <th>2</th>\n",
       "      <td>3.0</td>\n",
       "      <td>NaN</td>\n",
       "      <td>134500</td>\n",
       "    </tr>\n",
       "    <tr>\n",
       "      <th>3</th>\n",
       "      <td>NaN</td>\n",
       "      <td>NaN</td>\n",
       "      <td>123900</td>\n",
       "    </tr>\n",
       "  </tbody>\n",
       "</table>\n",
       "</div>"
      ],
      "text/plain": [
       "   NumRooms Alley   Price\n",
       "0       NaN  Pave  127500\n",
       "1       2.0   NaN  106000\n",
       "2       3.0   NaN  134500\n",
       "3       NaN   NaN  123900"
      ]
     },
     "execution_count": 8,
     "metadata": {},
     "output_type": "execute_result"
    }
   ],
   "source": [
    "os.makedirs(os.path.join('..','data'),exist_ok=True)\n",
    "data_file=os.path.join('..','data','house_tiny.csv')\n",
    "with open(data_file,'w') as f:\n",
    "    f.write(\"NumRooms,Alley,Price\\n\")\n",
    "    f.write(\"NA,Pave,127500\\n\")\n",
    "    f.write(\"2,NA,106000\\n\")\n",
    "    f.write(\"3,NA,134500\\n\")\n",
    "    f.write(\"NA,NA,123900\\n\")\n",
    "data=pd.read_csv(data_file)\n",
    "print(data)\n",
    "data"
   ]
  },
  {
   "cell_type": "code",
   "execution_count": 15,
   "id": "db105ef4-507c-4fbc-a392-0f55efd93455",
   "metadata": {},
   "outputs": [
    {
     "name": "stdout",
     "output_type": "stream",
     "text": [
      "   NumRooms Alley\n",
      "0       NaN  Pave\n",
      "1       2.0   NaN\n",
      "2       3.0   NaN\n",
      "3       NaN   NaN\n",
      "0    127500\n",
      "1    106000\n",
      "2    134500\n",
      "3    123900\n",
      "Name: Price, dtype: int64\n",
      "   NumRooms Alley\n",
      "0       2.5  Pave\n",
      "1       2.0   NaN\n",
      "2       3.0   NaN\n",
      "3       2.5   NaN\n",
      "   NumRooms  Alley_Pave  Alley_nan\n",
      "0       2.5        True      False\n",
      "1       2.0       False       True\n",
      "2       3.0       False       True\n",
      "3       2.5       False       True\n"
     ]
    }
   ],
   "source": [
    "#处理缺失数据\n",
    "input,output=data.iloc[:,0:2],data.iloc[:,2]\n",
    "print(input)\n",
    "print(output)\n",
    "input=input.fillna(input.mean(numeric_only=True)) #缺失值变成均值\n",
    "print(input)\n",
    "input=pd.get_dummies(input,dummy_na=True)\n",
    "print(input)"
   ]
  },
  {
   "cell_type": "code",
   "execution_count": 29,
   "id": "7a86db3f-baf6-4978-8f15-10cbc35709c5",
   "metadata": {},
   "outputs": [
    {
     "name": "stdout",
     "output_type": "stream",
     "text": [
      "[[2.5 True False]\n",
      " [2.0 False True]\n",
      " [3.0 False True]\n",
      " [2.5 False True]]\n",
      "tensor([[2.5000, 1.0000, 0.0000],\n",
      "        [2.0000, 0.0000, 1.0000],\n",
      "        [3.0000, 0.0000, 1.0000],\n",
      "        [2.5000, 0.0000, 1.0000]])\n",
      "tensor([127500, 106000, 134500, 123900])\n"
     ]
    }
   ],
   "source": [
    "print(input.values)\n",
    "X,y=torch.tensor(input.values.astype(np.float32)),torch.tensor(output.values)\n",
    "print(X)\n",
    "print(y)"
   ]
  },
  {
   "cell_type": "code",
   "execution_count": 34,
   "id": "2291bb0b-6ec0-4c9f-805c-2a3fd01866af",
   "metadata": {},
   "outputs": [
    {
     "data": {
      "text/plain": [
       "(tensor([[ 0,  1,  2,  3,  4],\n",
       "         [ 5,  6,  7,  8,  9],\n",
       "         [10, 11, 12, 13, 14],\n",
       "         [15, 16, 17, 18, 19]]),\n",
       " tensor([[ 0,  5, 10, 15],\n",
       "         [ 1,  6, 11, 16],\n",
       "         [ 2,  7, 12, 17],\n",
       "         [ 3,  8, 13, 18],\n",
       "         [ 4,  9, 14, 19]]))"
      ]
     },
     "execution_count": 34,
     "metadata": {},
     "output_type": "execute_result"
    }
   ],
   "source": [
    "a=torch.arange(20).reshape(4,5)\n",
    "a,a.T"
   ]
  },
  {
   "cell_type": "code",
   "execution_count": 35,
   "id": "f7cd99c0-d8c7-4f67-b6da-3ed0b86dee32",
   "metadata": {},
   "outputs": [
    {
     "data": {
      "text/plain": [
       "tensor([[True, True, True],\n",
       "        [True, True, True],\n",
       "        [True, True, True]])"
      ]
     },
     "execution_count": 35,
     "metadata": {},
     "output_type": "execute_result"
    }
   ],
   "source": [
    "a=torch.tensor([[1,2,3],[2,0,4],[3,4,5]])\n",
    "a==a.T"
   ]
  },
  {
   "cell_type": "code",
   "execution_count": 37,
   "id": "e199f775-c5b7-4301-a649-af9da6cd4ed6",
   "metadata": {},
   "outputs": [
    {
     "data": {
      "text/plain": [
       "tensor(3.7417)"
      ]
     },
     "execution_count": 37,
     "metadata": {},
     "output_type": "execute_result"
    }
   ],
   "source": [
    "#求L2范数\n",
    "a=torch.tensor([1.0,2,3])\n",
    "torch.norm(a)"
   ]
  },
  {
   "cell_type": "code",
   "execution_count": null,
   "id": "13f514c7-a1ff-4789-a25e-65cc333941e1",
   "metadata": {},
   "outputs": [],
   "source": []
  }
 ],
 "metadata": {
  "kernelspec": {
   "display_name": "Python 3 (ipykernel)",
   "language": "python",
   "name": "python3"
  },
  "language_info": {
   "codemirror_mode": {
    "name": "ipython",
    "version": 3
   },
   "file_extension": ".py",
   "mimetype": "text/x-python",
   "name": "python",
   "nbconvert_exporter": "python",
   "pygments_lexer": "ipython3",
   "version": "3.9.18"
  }
 },
 "nbformat": 4,
 "nbformat_minor": 5
}
