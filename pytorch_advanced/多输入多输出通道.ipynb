{
 "cells": [
  {
   "cell_type": "code",
   "execution_count": 21,
   "id": "79290bfc",
   "metadata": {},
   "outputs": [],
   "source": [
    "import torch\n",
    "from d2l import torch as d2l"
   ]
  },
  {
   "cell_type": "code",
   "execution_count": 22,
   "id": "ea15c099",
   "metadata": {},
   "outputs": [
    {
     "name": "stdout",
     "output_type": "stream",
     "text": [
      "torch.Size([3, 2, 3])\n",
      "torch.Size([3, 1, 2])\n"
     ]
    },
    {
     "data": {
      "text/plain": [
       "tensor([[10., 18.],\n",
       "        [10., 18.]])"
      ]
     },
     "execution_count": 22,
     "metadata": {},
     "output_type": "execute_result"
    }
   ],
   "source": [
    "def corr2d_multi_in(X,K): #X与K的第一维是相同的，保证每个通道与每个卷积层进行互相关运算\n",
    "    return sum(d2l.corr2d(x,k) for x,k in zip(X,K))\n",
    "X=torch.tensor([[[1.0,2,3],[1.0,2,3]],[[0.0,1,2],[0.0,1,2]],[[1.0,1,2],[1.0,1,2]]])\n",
    "print(X.shape)\n",
    "K=torch.tensor([[[1.0,2]],[[1.0,2]],[[1.0,2]]])\n",
    "print(K.shape)\n",
    "corr2d_multi_in(X,K)"
   ]
  },
  {
   "cell_type": "code",
   "execution_count": 23,
   "id": "40d69cc0",
   "metadata": {},
   "outputs": [
    {
     "data": {
      "text/plain": [
       "torch.Size([3, 3, 1, 2])"
      ]
     },
     "execution_count": 23,
     "metadata": {},
     "output_type": "execute_result"
    }
   ],
   "source": [
    "def corr2d_multi_in_out(X,K):\n",
    "    return torch.stack([corr2d_multi_in(X,k) for k in K],0)\n",
    "K=torch.stack([K,K+1,K+2],0) #这个块不要运行很多次,不然会一直堆叠\n",
    "K.shape"
   ]
  },
  {
   "cell_type": "code",
   "execution_count": 24,
   "id": "c1eb05b9",
   "metadata": {},
   "outputs": [
    {
     "data": {
      "text/plain": [
       "tensor([[[10., 18.],\n",
       "         [10., 18.]],\n",
       "\n",
       "        [[16., 29.],\n",
       "         [16., 29.]],\n",
       "\n",
       "        [[22., 40.],\n",
       "         [22., 40.]]])"
      ]
     },
     "execution_count": 24,
     "metadata": {},
     "output_type": "execute_result"
    }
   ],
   "source": [
    "corr2d_multi_in_out(X,K)"
   ]
  },
  {
   "cell_type": "code",
   "execution_count": 25,
   "id": "9bcc4457",
   "metadata": {},
   "outputs": [
    {
     "name": "stdout",
     "output_type": "stream",
     "text": [
      "tensor([[[-0.6296, -1.7107,  1.5552],\n",
      "         [-1.5386,  0.4742,  0.6948],\n",
      "         [ 0.0641, -0.2322, -0.3134]],\n",
      "\n",
      "        [[ 0.2133,  0.6777,  0.2232],\n",
      "         [ 0.2552,  0.9463,  0.8310],\n",
      "         [ 2.0563,  1.7197, -1.8478]],\n",
      "\n",
      "        [[-0.9885, -0.5534,  1.8458],\n",
      "         [ 0.1838, -0.5593,  1.5993],\n",
      "         [-0.1336, -2.0184, -0.1777]]])\n",
      "tensor([[-0.6296, -1.7107,  1.5552, -1.5386,  0.4742,  0.6948,  0.0641, -0.2322,\n",
      "         -0.3134],\n",
      "        [ 0.2133,  0.6777,  0.2232,  0.2552,  0.9463,  0.8310,  2.0563,  1.7197,\n",
      "         -1.8478],\n",
      "        [-0.9885, -0.5534,  1.8458,  0.1838, -0.5593,  1.5993, -0.1336, -2.0184,\n",
      "         -0.1777]])\n"
     ]
    }
   ],
   "source": [
    "#验证1x1的卷积就是全联结层\n",
    "X=torch.normal(0,1,(3,3,3))\n",
    "print(X)\n",
    "c_i,h,w=X.shape\n",
    "print(X.reshape(c_i,h*w))"
   ]
  },
  {
   "cell_type": "code",
   "execution_count": 28,
   "id": "b72da9c8",
   "metadata": {},
   "outputs": [],
   "source": [
    "def corr2d_multi_in_out1x1(X,K): #这个函数将1x1卷积转化成全连接层的形式\n",
    "    c_i,h,w=X.shape\n",
    "    c_o=K.shape[0]\n",
    "    X=X.reshape(c_i,h*w)\n",
    "    K=K.reshape(c_o,c_i)\n",
    "    Y=torch.matmul(K,X)\n",
    "    return Y.reshape(c_o,h,w)\n",
    "X=torch.normal(0,1,(3,3,3))\n",
    "K=torch.normal(0,1,(2,3,1,1))\n",
    "Y1=corr2d_multi_in_out(X,K)\n",
    "Y2=corr2d_multi_in_out1x1(X,K)"
   ]
  },
  {
   "cell_type": "code",
   "execution_count": 29,
   "id": "05907c70",
   "metadata": {},
   "outputs": [
    {
     "data": {
      "text/plain": [
       "tensor([[[True, True, True],\n",
       "         [True, True, True],\n",
       "         [True, True, True]],\n",
       "\n",
       "        [[True, True, True],\n",
       "         [True, True, True],\n",
       "         [True, True, True]]])"
      ]
     },
     "execution_count": 29,
     "metadata": {},
     "output_type": "execute_result"
    }
   ],
   "source": [
    "Y1==Y2"
   ]
  },
  {
   "cell_type": "code",
   "execution_count": null,
   "id": "b1901cf2",
   "metadata": {},
   "outputs": [],
   "source": []
  }
 ],
 "metadata": {
  "kernelspec": {
   "display_name": "Python 3 (ipykernel)",
   "language": "python",
   "name": "python3"
  },
  "language_info": {
   "codemirror_mode": {
    "name": "ipython",
    "version": 3
   },
   "file_extension": ".py",
   "mimetype": "text/x-python",
   "name": "python",
   "nbconvert_exporter": "python",
   "pygments_lexer": "ipython3",
   "version": "3.9.18"
  }
 },
 "nbformat": 4,
 "nbformat_minor": 5
}
