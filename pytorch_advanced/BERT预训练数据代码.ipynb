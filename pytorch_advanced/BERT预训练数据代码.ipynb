{
 "cells": [
  {
   "cell_type": "code",
   "execution_count": 1,
   "id": "d22f9cf5",
   "metadata": {},
   "outputs": [],
   "source": [
    "import os\n",
    "import random\n",
    "import torch\n",
    "from d2l import torch as d2l"
   ]
  },
  {
   "cell_type": "code",
   "execution_count": 2,
   "id": "6366ecb4",
   "metadata": {},
   "outputs": [],
   "source": [
    "d2l.DATA_HUB['wikitext-2'] = ('https://s3.amazonaws.com/research.metamind.io/wikitext/'\n",
    "                             'wikitext-2-v1.zip','3c914d17d80b1459be871a5039ac23e752a53cbe')   \n",
    "def _read_wiki(data_dir):\n",
    "    file_name=os.path.join(data_dir,'wiki.train.tokens')\n",
    "    with open(file_name,'r',encoding='utf-8') as f:\n",
    "        lines=f.readlines()\n",
    "    paragraphs=[line.strip().lower().split('.')\n",
    "               for line in lines if len(line.split('.'))>=2]\n",
    "    random.shuffle(paragraphs)\n",
    "    return paragraphs"
   ]
  },
  {
   "cell_type": "code",
   "execution_count": 3,
   "id": "14fadc31",
   "metadata": {},
   "outputs": [],
   "source": [
    "#Generating the next sentence prediction task\n",
    "def _get_next_sentence(sentence,next_sentence,paragraphs):\n",
    "    if random.random()<0.5:\n",
    "        is_next=True\n",
    "    else:\n",
    "        is_next=False\n",
    "        next_sentence=random.choice(random.choice(paragraphs))\n",
    "    return sentence,next_sentence,is_next"
   ]
  },
  {
   "cell_type": "code",
   "execution_count": 4,
   "id": "85265a63",
   "metadata": {},
   "outputs": [],
   "source": [
    "def _get_nsp_data_from_paragraph(paragraph,paragraphs,vocab,max_len):\n",
    "    nsp_data_from_paragraph=[]\n",
    "    for i in range(len(paragraph)-1):\n",
    "        tokens_a,tokens_b,is_next=_get_next_sentence(paragraph[i],paragraph[i+1],paragraphs)\n",
    "        if len(tokens_a)+len(tokens_b)+3>max_len:\n",
    "            continue\n",
    "        tokens,segments=d2l.get_tokens_and_segments(tokens_a,tokens_b)\n",
    "        nsp_data_from_paragraph.append((tokens,segments,is_next))\n",
    "    return nsp_data_from_paragraph"
   ]
  },
  {
   "cell_type": "code",
   "execution_count": 5,
   "id": "9a83649b",
   "metadata": {},
   "outputs": [],
   "source": [
    "def _replace_mlm_tokens(tokens,candidate_pred_positions,num_mlm_preds,vocab):\n",
    "    mlm_input_tokens=[token for token in tokens]\n",
    "    pred_positions_and_labels=[]\n",
    "    random.shuffle(candicate_pred_positions)\n",
    "    for mlm_pred_position in candicate_pred_positions:\n",
    "        if len(pred_positions_and_labels)>=num_mlm_preds:\n",
    "            break\n",
    "        masked_token=None\n",
    "        if random.random()<0.8:\n",
    "            masked_token='<mask>'\n",
    "        else:\n",
    "            if random.random()<0.5:\n",
    "                masked_token=tokens[mlm_pred_position]\n",
    "            else:\n",
    "                masked_token=random.randint(0,len(vocab_size)-1)\n",
    "        mlm_input_tokens[mlm_pred_position]=masked_token\n",
    "        pred_position_and_labels.apppend((mlm_pred_position,tokens[mlm_pred_position]))\n",
    "    return mlm_input_tokens,pred_positions_and_labels"
   ]
  },
  {
   "cell_type": "code",
   "execution_count": 6,
   "id": "f3f998b6",
   "metadata": {},
   "outputs": [],
   "source": [
    "def _get_mlm_data_from_tokens(tokens,vocab):\n",
    "    candidate_pred_positions=[]\n",
    "    for i,token in enumerate(tokens):\n",
    "        if token in ['<cls>','<sep>']:\n",
    "            continue\n",
    "        candidate_pred_positions.append(i)\n",
    "    num_mlm_preds = max(1, round(len(tokens) * 0.15))\n",
    "    mlm_input_tokens,pred_positions_and_labels=_replace_mlm_tokens(tokens,candidate_pred_positions,num_mlm_preds,vocab)\n",
    "    pred_positions_and_labels=sorted(pred_positions_and_labels,key=lambda x:x[0])\n",
    "    pred_positions=[v[0] for v in pred_positions_and_labels]\n",
    "    mlm_pred_labels=[v[1] for v in pred_positions_and_labels]\n",
    "    return vocab[mlm_input_tokens],pred_positions,vocab[mlm_pred_positions]"
   ]
  },
  {
   "cell_type": "code",
   "execution_count": 7,
   "id": "6c7427d6",
   "metadata": {},
   "outputs": [],
   "source": [
    "#append '<mask>' to the inputs\n",
    "def _pad_bert_inputs(examples,max_len,vocab):\n",
    "    max_num_mlm_preds=round(max_len*0.15)\n",
    "    all_token_ids,all_segments,valid_lens=[],[],[]\n",
    "    all_pred_positions,all_mlm_weights,all_mlm_labels=[],[],[]\n",
    "    nsp_labels=[]\n",
    "    for (token_ids,pred_positions,mlm_pred_label_ids,segments,is_next) in examples:\n",
    "        all_token_ids.append(torch.tensor(token_ids+[vocab['<pad>']]*(max_len-len(token_ids)),dtype=torch.long))\n",
    "        all_segments.append(torch.tensor(segments+[0]*(max_len-len(segments)),dtype=torch.long))\n",
    "        valid_lens.append(torch.tensor(len(token_ids),dtype=torch.float32))\n",
    "        all_pred_positions.append(torch.tensor(pred_positions+[0]*(max_num_mlm_preds-len(pred_positions)),dtype=torch.long))\n",
    "        all_mlm_weights.append(torch.tensor([1.0]*len(mlm_pred_label_ids)+[0.0]*(max_num_mlm_preds-len(pred_positions)),dtype=torch.float32))\n",
    "        all_mlm_labels.append(torch.tensor(mlm_pred_label_ids+[0]*(max_num_mlm_preds-len(mlm_pred_label_ids)),dtype=torch.long))\n",
    "        nsp_labels.append(torch.tensor(is_next,dtype=torch.long))\n",
    "    return (all_token_ids,all_segments,valid_lens,all_pred_positions,all_mlm_weights,all_mlm_labels,nsp_labels)"
   ]
  },
  {
   "cell_type": "code",
   "execution_count": 8,
   "id": "8a6add00",
   "metadata": {},
   "outputs": [],
   "source": [
    "# The WikiText-2 dataset for pretraining BERT\n",
    "class _WikiTextDataset(torch.utils.data.Dataset):\n",
    "    def __init__(self, paragraphs, max_len):\n",
    "        # 对段落进行分词，并构建词汇表\n",
    "        paragraphs = [d2l.tokenize(\n",
    "            paragraph, token='word') for paragraph in paragraphs]\n",
    "        sentences = [sentence for paragraph in paragraphs \n",
    "                     for sentence in paragraph]\n",
    "        self.vocab = d2l.Vocab(sentences, min_freq=5, reserved_tokens =[\n",
    "            '<pad>', '<mask>', '<cls>', '<seq>'])\n",
    "        examples = []\n",
    "        # 遍历每个段落，生成 Next Sentence Prediction 任务的数据\n",
    "        for paragraph in paragraphs:\n",
    "            examples.extend(_get_nsp_data_from_paragraph(\n",
    "                paragraph, paragraphs, self.vocab, max_len))\n",
    "        # 遍历每个样本，生成 Masked Language Modeling 任务的数据，并对输入进行填充\n",
    "        examples = [(_get_mlm_data_from_tokens(tokens, self.vocab)\n",
    "                    + (segments, is_next))\n",
    "                   for tokens, segments, is_next in examples]\n",
    "        (self.all_token_ids, self.all_segments, self.valid_lens,\n",
    "        self.all_pred_positions, self.all_mlm_weights,\n",
    "        self.all_mlm_labels, self.nsp_labels) = _pad_bert_inputs(examples, max_len, self.vocab)   \n",
    "        \n",
    "    def __getitem__(self, idx):\n",
    "        # 返回指定索引的数据\n",
    "        return (self.all_token_ids[idx], self.all_segments[idx],\n",
    "               self.valid_lens[idx], self.all_pred_positions[idx],\n",
    "               self.all_mlm_weights[idx], self.all_mlm_labels[idx],\n",
    "               self.nsp_labels[idx])\n",
    "    \n",
    "    def __len__(self):\n",
    "        # 返回数据集的长度\n",
    "        return len(self.all_token_ids)"
   ]
  },
  {
   "cell_type": "code",
   "execution_count": 9,
   "id": "6909fe05",
   "metadata": {},
   "outputs": [],
   "source": [
    "# Download and WikiText-2 dataset and generate pretraining examples\n",
    "def load_data_wiki(batch_size, max_len):\n",
    "    \"\"\"Load the WikiText-2 dataset. \"\"\"\n",
    "    # 获取用于加载数据的工作进程数\n",
    "    num_workers = d2l.get_dataloader_workers()\n",
    "    # 下载并解压 WikiText-2 数据集\n",
    "    data_dir = d2l.download_extract('wikitext-2', 'wikitext-2')\n",
    "    # 读取 WikiText-2 数据集中的段落\n",
    "    paragraphs = _read_wiki(data_dir)\n",
    "    # 构建 WikiText-2 数据集对象\n",
    "    train_set = _WikiTextDataset(paragraphs, max_len)\n",
    "    # 创建用于训练的数据迭代器\n",
    "    train_iter = torch.utils.data.DataLoader(train_set, batch_size,\n",
    "                                             shuffle=True, num_workers=0)  \n",
    "    # 返回训练数据迭代器和词汇表\n",
    "    return train_iter, train_set.vocab"
   ]
  },
  {
   "cell_type": "code",
   "execution_count": 10,
   "id": "2defe8f2",
   "metadata": {},
   "outputs": [
    {
     "name": "stdout",
     "output_type": "stream",
     "text": [
      "Downloading ..\\data\\wikitext-2-v1.zip from https://s3.amazonaws.com/research.metamind.io/wikitext/wikitext-2-v1.zip...\n"
     ]
    },
    {
     "ename": "BadZipFile",
     "evalue": "File is not a zip file",
     "output_type": "error",
     "traceback": [
      "\u001b[1;31m---------------------------------------------------------------------------\u001b[0m",
      "\u001b[1;31mBadZipFile\u001b[0m                                Traceback (most recent call last)",
      "Cell \u001b[1;32mIn[10], line 4\u001b[0m\n\u001b[0;32m      2\u001b[0m batch_size, max_len \u001b[38;5;241m=\u001b[39m \u001b[38;5;241m512\u001b[39m, \u001b[38;5;241m64\u001b[39m\n\u001b[0;32m      3\u001b[0m \u001b[38;5;66;03m# 加载 WikiText-2 数据集的训练数据迭代器和词汇表\u001b[39;00m\n\u001b[1;32m----> 4\u001b[0m train_iter, vocab \u001b[38;5;241m=\u001b[39m \u001b[43mload_data_wiki\u001b[49m\u001b[43m(\u001b[49m\u001b[43mbatch_size\u001b[49m\u001b[43m,\u001b[49m\u001b[43m \u001b[49m\u001b[43mmax_len\u001b[49m\u001b[43m)\u001b[49m\n\u001b[0;32m      5\u001b[0m \u001b[38;5;66;03m# 遍历训练数据迭代器，获取一个小批量的 BERT 预训练样本，并打印各项数据的形状\u001b[39;00m\n\u001b[0;32m      6\u001b[0m \u001b[38;5;28;01mfor\u001b[39;00m (tokens_X, segments_X, valid_lens_x, pred_positions_X, mlm_weights_X,\n\u001b[0;32m      7\u001b[0m     mlm_Y, nsp_y) \u001b[38;5;129;01min\u001b[39;00m train_iter:\n",
      "Cell \u001b[1;32mIn[9], line 7\u001b[0m, in \u001b[0;36mload_data_wiki\u001b[1;34m(batch_size, max_len)\u001b[0m\n\u001b[0;32m      5\u001b[0m num_workers \u001b[38;5;241m=\u001b[39m d2l\u001b[38;5;241m.\u001b[39mget_dataloader_workers()\n\u001b[0;32m      6\u001b[0m \u001b[38;5;66;03m# 下载并解压 WikiText-2 数据集\u001b[39;00m\n\u001b[1;32m----> 7\u001b[0m data_dir \u001b[38;5;241m=\u001b[39m \u001b[43md2l\u001b[49m\u001b[38;5;241;43m.\u001b[39;49m\u001b[43mdownload_extract\u001b[49m\u001b[43m(\u001b[49m\u001b[38;5;124;43m'\u001b[39;49m\u001b[38;5;124;43mwikitext-2\u001b[39;49m\u001b[38;5;124;43m'\u001b[39;49m\u001b[43m,\u001b[49m\u001b[43m \u001b[49m\u001b[38;5;124;43m'\u001b[39;49m\u001b[38;5;124;43mwikitext-2\u001b[39;49m\u001b[38;5;124;43m'\u001b[39;49m\u001b[43m)\u001b[49m\n\u001b[0;32m      8\u001b[0m \u001b[38;5;66;03m# 读取 WikiText-2 数据集中的段落\u001b[39;00m\n\u001b[0;32m      9\u001b[0m paragraphs \u001b[38;5;241m=\u001b[39m _read_wiki(data_dir)\n",
      "File \u001b[1;32m~\\AppData\\Roaming\\Python\\Python39\\site-packages\\d2l\\torch.py:405\u001b[0m, in \u001b[0;36mdownload_extract\u001b[1;34m(name, folder)\u001b[0m\n\u001b[0;32m    403\u001b[0m data_dir, ext \u001b[38;5;241m=\u001b[39m os\u001b[38;5;241m.\u001b[39mpath\u001b[38;5;241m.\u001b[39msplitext(fname)\n\u001b[0;32m    404\u001b[0m \u001b[38;5;28;01mif\u001b[39;00m ext \u001b[38;5;241m==\u001b[39m \u001b[38;5;124m'\u001b[39m\u001b[38;5;124m.zip\u001b[39m\u001b[38;5;124m'\u001b[39m:\n\u001b[1;32m--> 405\u001b[0m     fp \u001b[38;5;241m=\u001b[39m \u001b[43mzipfile\u001b[49m\u001b[38;5;241;43m.\u001b[39;49m\u001b[43mZipFile\u001b[49m\u001b[43m(\u001b[49m\u001b[43mfname\u001b[49m\u001b[43m,\u001b[49m\u001b[43m \u001b[49m\u001b[38;5;124;43m'\u001b[39;49m\u001b[38;5;124;43mr\u001b[39;49m\u001b[38;5;124;43m'\u001b[39;49m\u001b[43m)\u001b[49m\n\u001b[0;32m    406\u001b[0m \u001b[38;5;28;01melif\u001b[39;00m ext \u001b[38;5;129;01min\u001b[39;00m (\u001b[38;5;124m'\u001b[39m\u001b[38;5;124m.tar\u001b[39m\u001b[38;5;124m'\u001b[39m, \u001b[38;5;124m'\u001b[39m\u001b[38;5;124m.gz\u001b[39m\u001b[38;5;124m'\u001b[39m):\n\u001b[0;32m    407\u001b[0m     fp \u001b[38;5;241m=\u001b[39m tarfile\u001b[38;5;241m.\u001b[39mopen(fname, \u001b[38;5;124m'\u001b[39m\u001b[38;5;124mr\u001b[39m\u001b[38;5;124m'\u001b[39m)\n",
      "File \u001b[1;32mD:\\anaconda3\\envs\\torch\\lib\\zipfile.py:1266\u001b[0m, in \u001b[0;36mZipFile.__init__\u001b[1;34m(self, file, mode, compression, allowZip64, compresslevel, strict_timestamps)\u001b[0m\n\u001b[0;32m   1264\u001b[0m \u001b[38;5;28;01mtry\u001b[39;00m:\n\u001b[0;32m   1265\u001b[0m     \u001b[38;5;28;01mif\u001b[39;00m mode \u001b[38;5;241m==\u001b[39m \u001b[38;5;124m'\u001b[39m\u001b[38;5;124mr\u001b[39m\u001b[38;5;124m'\u001b[39m:\n\u001b[1;32m-> 1266\u001b[0m         \u001b[38;5;28;43mself\u001b[39;49m\u001b[38;5;241;43m.\u001b[39;49m\u001b[43m_RealGetContents\u001b[49m\u001b[43m(\u001b[49m\u001b[43m)\u001b[49m\n\u001b[0;32m   1267\u001b[0m     \u001b[38;5;28;01melif\u001b[39;00m mode \u001b[38;5;129;01min\u001b[39;00m (\u001b[38;5;124m'\u001b[39m\u001b[38;5;124mw\u001b[39m\u001b[38;5;124m'\u001b[39m, \u001b[38;5;124m'\u001b[39m\u001b[38;5;124mx\u001b[39m\u001b[38;5;124m'\u001b[39m):\n\u001b[0;32m   1268\u001b[0m         \u001b[38;5;66;03m# set the modified flag so central directory gets written\u001b[39;00m\n\u001b[0;32m   1269\u001b[0m         \u001b[38;5;66;03m# even if no files are added to the archive\u001b[39;00m\n\u001b[0;32m   1270\u001b[0m         \u001b[38;5;28mself\u001b[39m\u001b[38;5;241m.\u001b[39m_didModify \u001b[38;5;241m=\u001b[39m \u001b[38;5;28;01mTrue\u001b[39;00m\n",
      "File \u001b[1;32mD:\\anaconda3\\envs\\torch\\lib\\zipfile.py:1333\u001b[0m, in \u001b[0;36mZipFile._RealGetContents\u001b[1;34m(self)\u001b[0m\n\u001b[0;32m   1331\u001b[0m     \u001b[38;5;28;01mraise\u001b[39;00m BadZipFile(\u001b[38;5;124m\"\u001b[39m\u001b[38;5;124mFile is not a zip file\u001b[39m\u001b[38;5;124m\"\u001b[39m)\n\u001b[0;32m   1332\u001b[0m \u001b[38;5;28;01mif\u001b[39;00m \u001b[38;5;129;01mnot\u001b[39;00m endrec:\n\u001b[1;32m-> 1333\u001b[0m     \u001b[38;5;28;01mraise\u001b[39;00m BadZipFile(\u001b[38;5;124m\"\u001b[39m\u001b[38;5;124mFile is not a zip file\u001b[39m\u001b[38;5;124m\"\u001b[39m)\n\u001b[0;32m   1334\u001b[0m \u001b[38;5;28;01mif\u001b[39;00m \u001b[38;5;28mself\u001b[39m\u001b[38;5;241m.\u001b[39mdebug \u001b[38;5;241m>\u001b[39m \u001b[38;5;241m1\u001b[39m:\n\u001b[0;32m   1335\u001b[0m     \u001b[38;5;28mprint\u001b[39m(endrec)\n",
      "\u001b[1;31mBadZipFile\u001b[0m: File is not a zip file"
     ]
    }
   ],
   "source": [
    "# Print out the shapes of a minibatch of BERT pretraining examples\n",
    "batch_size, max_len = 512, 64\n",
    "# 加载 WikiText-2 数据集的训练数据迭代器和词汇表\n",
    "train_iter, vocab = load_data_wiki(batch_size, max_len)\n",
    "# 遍历训练数据迭代器，获取一个小批量的 BERT 预训练样本，并打印各项数据的形状\n",
    "for (tokens_X, segments_X, valid_lens_x, pred_positions_X, mlm_weights_X,\n",
    "    mlm_Y, nsp_y) in train_iter:\n",
    "    print(tokens_X.shape, segments_X.shape, valid_lens_x.shape,\n",
    "         pred_positions_X.shape, mlm_weights_X.shape, mlm_Y.shape,\n",
    "         nsp_y.shape)\n",
    "    break"
   ]
  },
  {
   "cell_type": "code",
   "execution_count": null,
   "id": "18a6d8f3",
   "metadata": {},
   "outputs": [],
   "source": []
  }
 ],
 "metadata": {
  "kernelspec": {
   "display_name": "Python 3 (ipykernel)",
   "language": "python",
   "name": "python3"
  },
  "language_info": {
   "codemirror_mode": {
    "name": "ipython",
    "version": 3
   },
   "file_extension": ".py",
   "mimetype": "text/x-python",
   "name": "python",
   "nbconvert_exporter": "python",
   "pygments_lexer": "ipython3",
   "version": "3.9.18"
  }
 },
 "nbformat": 4,
 "nbformat_minor": 5
}
