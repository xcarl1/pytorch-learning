{
 "cells": [
  {
   "cell_type": "code",
   "execution_count": 1,
   "id": "cf06827d",
   "metadata": {},
   "outputs": [],
   "source": [
    "import torch\n",
    "import torch.nn as nn\n",
    "from d2l import torch as d2l"
   ]
  },
  {
   "cell_type": "code",
   "execution_count": 2,
   "id": "37de78e8",
   "metadata": {},
   "outputs": [],
   "source": [
    "def pool2d(X,pool_size,mode='max'):\n",
    "    p_h,p_w=pool_size\n",
    "    Y=torch.zeros(X.shape[0]-p_h+1,X.shape[1]-p_w+1)\n",
    "    for i in range(Y.shape[0]):\n",
    "        for j in range(Y.shape[1]):\n",
    "            if mode=='max':\n",
    "                Y[i,j]=X[i:i+p_h,j:j+p_w].max()\n",
    "            if mode=='avg':\n",
    "                Y[i,j]=X[i:i+p_h,j:j+p_w].mean()\n",
    "    return Y"
   ]
  },
  {
   "cell_type": "code",
   "execution_count": 5,
   "id": "2738ed82",
   "metadata": {},
   "outputs": [
    {
     "name": "stdout",
     "output_type": "stream",
     "text": [
      "tensor([[2., 3.],\n",
      "        [4., 5.]])\n",
      "tensor([[1., 2.],\n",
      "        [2., 3.]])\n"
     ]
    }
   ],
   "source": [
    "X=torch.tensor([[1.0,2,3],[0,1,2],[3,4,5]])\n",
    "print(pool2d(X,(2,2)))\n",
    "print(pool2d(X,(2,2),'avg'))"
   ]
  },
  {
   "cell_type": "code",
   "execution_count": 6,
   "id": "5711b331",
   "metadata": {},
   "outputs": [
    {
     "data": {
      "text/plain": [
       "tensor([[[[ 0.,  1.,  2.,  3.],\n",
       "          [ 4.,  5.,  6.,  7.],\n",
       "          [ 8.,  9., 10., 11.],\n",
       "          [12., 13., 14., 15.]]]])"
      ]
     },
     "execution_count": 6,
     "metadata": {},
     "output_type": "execute_result"
    }
   ],
   "source": [
    "X=torch.arange(16,dtype=torch.float32).reshape(1,1,4,4)\n",
    "X"
   ]
  },
  {
   "cell_type": "code",
   "execution_count": 8,
   "id": "0b5515ec",
   "metadata": {},
   "outputs": [
    {
     "data": {
      "text/plain": [
       "tensor([[[[10.]]]])"
      ]
     },
     "execution_count": 8,
     "metadata": {},
     "output_type": "execute_result"
    }
   ],
   "source": [
    "pool2d1=nn.MaxPool2d(3) #最大池化层的长宽都是3，默认步幅是kernel大小\n",
    "pool2d1(X)"
   ]
  },
  {
   "cell_type": "code",
   "execution_count": 9,
   "id": "04ef0c42",
   "metadata": {},
   "outputs": [
    {
     "data": {
      "text/plain": [
       "tensor([[[[10., 11.],\n",
       "          [14., 15.]]]])"
      ]
     },
     "execution_count": 9,
     "metadata": {},
     "output_type": "execute_result"
    }
   ],
   "source": [
    "#也可以自定义步幅\n",
    "pool2d2=nn.MaxPool2d(kernel_size=3,stride=1)\n",
    "pool2d2(X)"
   ]
  },
  {
   "cell_type": "code",
   "execution_count": 10,
   "id": "1af713ab",
   "metadata": {},
   "outputs": [
    {
     "data": {
      "text/plain": [
       "tensor([[[[ 5.,  6.,  7.,  7.],\n",
       "          [ 9., 10., 11., 11.],\n",
       "          [13., 14., 15., 15.],\n",
       "          [13., 14., 15., 15.]]]])"
      ]
     },
     "execution_count": 10,
     "metadata": {},
     "output_type": "execute_result"
    }
   ],
   "source": [
    "#也可以指定padding\n",
    "pool2d3=nn.MaxPool2d(kernel_size=3,padding=1,stride=1)\n",
    "pool2d3(X)"
   ]
  },
  {
   "cell_type": "code",
   "execution_count": null,
   "id": "29f5711f",
   "metadata": {},
   "outputs": [],
   "source": []
  }
 ],
 "metadata": {
  "kernelspec": {
   "display_name": "Python 3 (ipykernel)",
   "language": "python",
   "name": "python3"
  },
  "language_info": {
   "codemirror_mode": {
    "name": "ipython",
    "version": 3
   },
   "file_extension": ".py",
   "mimetype": "text/x-python",
   "name": "python",
   "nbconvert_exporter": "python",
   "pygments_lexer": "ipython3",
   "version": "3.9.18"
  }
 },
 "nbformat": 4,
 "nbformat_minor": 5
}
