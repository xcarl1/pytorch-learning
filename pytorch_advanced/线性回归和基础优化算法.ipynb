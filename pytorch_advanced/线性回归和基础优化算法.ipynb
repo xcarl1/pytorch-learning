{
 "cells": [
  {
   "cell_type": "markdown",
   "id": "da8419ea-22fa-4af0-96dd-ea417de21dda",
   "metadata": {},
   "source": [
    "# 从0实现线性回归"
   ]
  },
  {
   "cell_type": "code",
   "execution_count": 117,
   "id": "e87953bc-ac6d-4507-9821-e5186ac5c0ad",
   "metadata": {},
   "outputs": [],
   "source": [
    "%matplotlib inline\n",
    "import torch\n",
    "from torch.utils import data\n",
    "import random\n",
    "import matplotlib\n",
    "import matplotlib.pyplot as plt\n",
    "import numpy as np\n",
    "from torch import nn"
   ]
  },
  {
   "cell_type": "code",
   "execution_count": 118,
   "id": "7a77babd-038d-4c5d-afd1-24666a2af35b",
   "metadata": {},
   "outputs": [],
   "source": [
    "#生成数据\n",
    "def synthetic_data(W,b,num_examples):\n",
    "    x=torch.normal(0,1,(num_examples,len(W)))\n",
    "    y=torch.matmul(x,W)+b  #dot用于两个一维张量的点积，而matmul用于两个多维张量的乘法\n",
    "    y+=torch.normal(0,0.01,y.shape)\n",
    "    return x,y.reshape(-1,1)\n",
    "true_W=torch.tensor([2,-3.4])\n",
    "true_b=4.2\n",
    "features,labels=synthetic_data(true_W,true_b,1000)"
   ]
  },
  {
   "cell_type": "code",
   "execution_count": 119,
   "id": "26d4a881-a449-4107-b80e-953a839f4599",
   "metadata": {},
   "outputs": [
    {
     "data": {
      "image/png": "[encoded data removed]",
      "text/plain": [
       "<Figure size 300x300 with 1 Axes>"
      ]
     },
     "metadata": {},
     "output_type": "display_data"
    }
   ],
   "source": [
    "plt.figure(figsize=(3,3))\n",
    "plt.scatter(features[:,1].numpy(),labels.numpy(),1)\n",
    "plt.show()"
   ]
  },
  {
   "cell_type": "code",
   "execution_count": 120,
   "id": "d8e45b3e-347e-462a-b975-6453c93b3dc3",
   "metadata": {},
   "outputs": [
    {
     "data": {
      "text/plain": [
       "(tensor([[-0.2480,  1.3376],\n",
       "         [ 1.6649,  0.1959],\n",
       "         [ 1.3802,  1.0582],\n",
       "         [ 1.9624,  0.0884],\n",
       "         [-1.5025,  0.5394],\n",
       "         [-0.3735, -0.8983],\n",
       "         [ 2.1862,  0.7887],\n",
       "         [ 2.1092,  1.2612],\n",
       "         [-1.6764, -0.5572],\n",
       "         [ 1.6969,  0.5543]]),\n",
       " tensor([[-0.8338],\n",
       "         [ 6.8733],\n",
       "         [ 3.3595],\n",
       "         [ 7.8181],\n",
       "         [-0.6246],\n",
       "         [ 6.5012],\n",
       "         [ 5.9028],\n",
       "         [ 4.1134],\n",
       "         [ 2.7413],\n",
       "         [ 5.7103]]))"
      ]
     },
     "execution_count": 120,
     "metadata": {},
     "output_type": "execute_result"
    }
   ],
   "source": [
    "#生成批量大小的数据\n",
    "def data_iter(batch_size,features,labels):\n",
    "    num_examples=len(features)\n",
    "    indices=list(range(num_examples))\n",
    "    random.shuffle(indices)\n",
    "    for i in range(0,num_examples,batch_size):\n",
    "        batch_indices=indices[i:min(i+batch_size,num_examples)]\n",
    "        yield features[batch_indices],labels[batch_indices]\n",
    "batch_size=10\n",
    "next(data_iter(batch_size,features,labels))"
   ]
  },
  {
   "cell_type": "code",
   "execution_count": 121,
   "id": "646c3b74-f4af-41f6-baa2-f8767994f077",
   "metadata": {},
   "outputs": [
    {
     "data": {
      "text/plain": [
       "(tensor([[ 0.0016],\n",
       "         [-0.0131]], requires_grad=True),\n",
       " tensor([0.], requires_grad=True))"
      ]
     },
     "execution_count": 121,
     "metadata": {},
     "output_type": "execute_result"
    }
   ],
   "source": [
    "#定义初始化模型参数\n",
    "W=torch.normal(0,0.01,size=(2,1),requires_grad=True)\n",
    "b=torch.zeros(1,requires_grad=True)\n",
    "W,b"
   ]
  },
  {
   "cell_type": "code",
   "execution_count": 122,
   "id": "56712b83-2223-43ba-b8b9-e8499c368fdc",
   "metadata": {},
   "outputs": [],
   "source": [
    "#定义模型\n",
    "def linear(X,w,b):\n",
    "    return torch.matmul(X,w)+b"
   ]
  },
  {
   "cell_type": "code",
   "execution_count": 123,
   "id": "0e9dd219-5d38-4bce-98d6-1f193a6ab32f",
   "metadata": {},
   "outputs": [],
   "source": [
    "#定义损失函数\n",
    "def squared_loss(y_hat,y,batch_size):\n",
    "    \"均方损失\"\n",
    "    return (y_hat-y)**2/(2*batch_size)"
   ]
  },
  {
   "cell_type": "code",
   "execution_count": 124,
   "id": "fd256c6f-f0e4-47f6-8fa5-c1d98e2c3d9c",
   "metadata": {},
   "outputs": [],
   "source": [
    "#定义优化算法\n",
    "def sgd(params,lr,batch_size):\n",
    "    with torch.no_grad():\n",
    "        for param in params:\n",
    "            param-=lr*param.grad\n",
    "            param.grad.zero_()"
   ]
  },
  {
   "cell_type": "code",
   "execution_count": 125,
   "id": "3d65bb4a-9524-4833-9c09-101f741de98a",
   "metadata": {},
   "outputs": [
    {
     "name": "stdout",
     "output_type": "stream",
     "text": [
      "epoch 1,loss 0.039772\n",
      "epoch 2,loss 0.000143\n",
      "epoch 3,loss 0.000051\n",
      "epoch 4,loss 0.000050\n",
      "epoch 5,loss 0.000050\n"
     ]
    }
   ],
   "source": [
    "#训练过程\n",
    "lr=0.03\n",
    "epochs=5\n",
    "net=linear\n",
    "loss=squared_loss\n",
    "for epoch in range(epochs):\n",
    "    for X,y in data_iter(batch_size,features,labels):\n",
    "        y_hat=net(X,W,b)\n",
    "        l=loss(y_hat,y,batch_size).sum()\n",
    "        l.backward()\n",
    "        sgd([W,b],lr,batch_size)\n",
    "    with torch.no_grad():\n",
    "        train_loss=loss(net(features,W,b),labels,1000).sum()\n",
    "        print(\"epoch %d,loss %.6f\"%(epoch+1,train_loss.item()))"
   ]
  },
  {
   "cell_type": "code",
   "execution_count": 126,
   "id": "b05e17f2-6263-4b4b-9a4b-53cd9be88675",
   "metadata": {},
   "outputs": [
    {
     "name": "stdout",
     "output_type": "stream",
     "text": [
      "w的估计误差： tensor([ 0.0001, -0.0004], grad_fn=<SubBackward0>)\n",
      "b的估计误差： tensor([-1.7643e-05], grad_fn=<RsubBackward1>)\n"
     ]
    }
   ],
   "source": [
    "print(\"w的估计误差：\",true_W-W.reshape(true_W.shape))\n",
    "print(\"b的估计误差：\",true_b-b)"
   ]
  },
  {
   "cell_type": "markdown",
   "id": "097a7528-8407-4643-a9aa-e7ee4067e281",
   "metadata": {},
   "source": [
    "# 线性回归的简洁实现"
   ]
  },
  {
   "cell_type": "code",
   "execution_count": 127,
   "id": "c66ae8d3-e8d4-4282-88da-ca3400ba88d7",
   "metadata": {},
   "outputs": [
    {
     "name": "stdout",
     "output_type": "stream",
     "text": [
      "10\n"
     ]
    }
   ],
   "source": [
    "true_W=torch.tensor([2,-3.4])\n",
    "true_b=4.2\n",
    "features,labels=synthetic_data(true_W,true_b,1000)\n",
    "print(batch_size)"
   ]
  },
  {
   "cell_type": "code",
   "execution_count": 128,
   "id": "b20894a2-0c5b-4314-9b19-9521e83b9999",
   "metadata": {},
   "outputs": [],
   "source": [
    "#构造一个Pytorch数据迭代器\n",
    "def load_array(batch_size,*dataset):\n",
    "    dataset=data.TensorDataset(*dataset)\n",
    "    return data.DataLoader(dataset,batch_size,shuffle=True)\n",
    "dataloader=load_array(batch_size,features,labels)"
   ]
  },
  {
   "cell_type": "code",
   "execution_count": 129,
   "id": "d362b3fd-158b-436e-8183-fdbdd7bfe5e3",
   "metadata": {},
   "outputs": [
    {
     "data": {
      "text/plain": [
       "tensor([0.])"
      ]
     },
     "execution_count": 129,
     "metadata": {},
     "output_type": "execute_result"
    }
   ],
   "source": [
    "#构造模型\n",
    "net=nn.Linear(2,1)\n",
    "net.weight.data.normal_(0,0.1)\n",
    "net.bias.data.fill_(0)"
   ]
  },
  {
   "cell_type": "code",
   "execution_count": 130,
   "id": "85b3dc96-c03e-428e-89c0-aa82a2258a5a",
   "metadata": {},
   "outputs": [],
   "source": [
    "#损失函数和优化器\n",
    "loss=nn.MSELoss()\n",
    "optim=torch.optim.SGD(net.parameters(),lr=0.03)"
   ]
  },
  {
   "cell_type": "code",
   "execution_count": 131,
   "id": "150bc4fb-a285-4c22-94fb-c78c2fc4e2b6",
   "metadata": {},
   "outputs": [
    {
     "name": "stdout",
     "output_type": "stream",
     "text": [
      "epoch 1,loss 0.000293\n",
      "epoch 2,loss 0.000099\n",
      "epoch 3,loss 0.000099\n",
      "epoch 4,loss 0.000099\n",
      "epoch 5,loss 0.000099\n"
     ]
    }
   ],
   "source": [
    "epochs=5\n",
    "for epoch in range(epochs):\n",
    "    for X,y in dataloader:\n",
    "        optim.zero_grad()\n",
    "        l=loss(net(X),y)\n",
    "        l.backward()\n",
    "        optim.step()\n",
    "    l=loss(net(features),labels)\n",
    "    print(\"epoch %d,loss %.6f\"%(epoch+1,l.item()))"
   ]
  },
  {
   "cell_type": "code",
   "execution_count": 132,
   "id": "c351d121-2859-42af-ad24-01c6f439db55",
   "metadata": {},
   "outputs": [
    {
     "name": "stdout",
     "output_type": "stream",
     "text": [
      "w的估计误差： tensor([ 0.0001, -0.0004], grad_fn=<SubBackward0>)\n",
      "b的估计误差： tensor([-1.7643e-05], grad_fn=<RsubBackward1>)\n"
     ]
    }
   ],
   "source": [
    "print(\"w的估计误差：\",true_W-W.reshape(true_W.shape))\n",
    "print(\"b的估计误差：\",true_b-b)"
   ]
  },
  {
   "cell_type": "code",
   "execution_count": null,
   "id": "6f0b886d-fe54-423c-a0fb-1cfd0d2d283a",
   "metadata": {},
   "outputs": [],
   "source": []
  }
 ],
 "metadata": {
  "kernelspec": {
   "display_name": "Python 3 (ipykernel)",
   "language": "python",
   "name": "python3"
  },
  "language_info": {
   "codemirror_mode": {
    "name": "ipython",
    "version": 3
   },
   "file_extension": ".py",
   "mimetype": "text/x-python",
   "name": "python",
   "nbconvert_exporter": "python",
   "pygments_lexer": "ipython3",
   "version": "3.9.18"
  }
 },
 "nbformat": 4,
 "nbformat_minor": 5
}
