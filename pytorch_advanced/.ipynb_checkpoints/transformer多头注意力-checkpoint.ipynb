{
 "cells": [
  {
   "cell_type": "code",
   "execution_count": 1,
   "id": "045eb4e2",
   "metadata": {},
   "outputs": [],
   "source": [
    "import math\n",
    "import torch\n",
    "from torch import nn\n",
    "from d2l import torch as d2l"
   ]
  },
  {
   "cell_type": "code",
   "execution_count": 3,
   "id": "18721959",
   "metadata": {},
   "outputs": [],
   "source": [
    "class MultiHeadAttention(nn.Module):\n",
    "    def __init__(self,key_size,query_size,value_size,num_hiddens,num_heads,dropout,bias=False,**kwargs):\n",
    "        super(MultiHeadAttention,self).__init__(**kwargs)\n",
    "        self.num_heads=num_heads\n",
    "        self.attention=d2l.DotProductAttention(dropout)\n",
    "        self.W_q=nn.Linear(query_size,num_hiddens,bias=bias)\n",
    "        self.W_k=nn.Linear(key_size,num_hiddens,bias=bias)\n",
    "        self.W_v=nn.Linear(value_size,num_hiddens,bias=bias)\n",
    "        self.W_o=nn.Linear(num_hiddens,num_hiddens,bias=bias)\n",
    "    def forward(self,queries,keys,values,valid_lens):\n",
    "        queries=transpose_qkv(self.W_q(queries),self.num_heads)\n",
    "        keys=transpose_qkv(self.W_k(keys),self.num_heads)\n",
    "        values=transpose_qkv(self.W_v(values),self.num_heads)\n",
    "        if valid_lens is not None:\n",
    "            valid_lens=torch.repeat_interleave(valid_lens,repeats=self.num_heads,dim=0)\n",
    "        output=self.attention(queries,keys,values,valid_lens)\n",
    "        output_concat=transpose_output(output,self.num_heads)\n",
    "        return self.W_o(output_concat)()"
   ]
  },
  {
   "cell_type": "code",
   "execution_count": 2,
   "id": "8e605664",
   "metadata": {},
   "outputs": [],
   "source": [
    "def transpose_qkv(X,num_heads):\n",
    "    X=X.reshape(X.shape[0],X.shape[1],num_heads,-1)\n",
    "    X=X.permute(0,2,1,3)\n",
    "    return X.reshape(-1,X.shape[2],X.shape[3])\n",
    "def transpose_output(X,num_heads):\n",
    "    X=X.reshape(-1,num_heads,X.shape[1],X.shape[2])\n",
    "    X=X.permute(0,2,1,3)\n",
    "    return X.reshape(X.shape[0],X.shape[1],-1)"
   ]
  },
  {
   "cell_type": "code",
   "execution_count": 6,
   "id": "a4119bbc",
   "metadata": {},
   "outputs": [
    {
     "data": {
      "text/plain": [
       "torch.Size([2, 4, 100])"
      ]
     },
     "execution_count": 6,
     "metadata": {},
     "output_type": "execute_result"
    }
   ],
   "source": [
    "num_hiddens,num_heads=100,5\n",
    "attention=MultiHeadAttention(num_hiddens,num_hiddens,num_hiddens,num_hiddens,num_heads,0.5)\n",
    "batch_size,num_queries,num_kvpairs,valid_lens=2,4,6,torch.tensor([3,2])\n",
    "X=torch.ones((batch_size,num_queries,num_hiddens))\n",
    "Y=torch.ones((batch_size,num_kvpairs,num_hiddens))\n",
    "attention(X,Y,Y,valid_lens).shape"
   ]
  },
  {
   "cell_type": "code",
   "execution_count": null,
   "id": "9db153ac",
   "metadata": {},
   "outputs": [],
   "source": []
  }
 ],
 "metadata": {
  "kernelspec": {
   "display_name": "Python 3 (ipykernel)",
   "language": "python",
   "name": "python3"
  },
  "language_info": {
   "codemirror_mode": {
    "name": "ipython",
    "version": 3
   },
   "file_extension": ".py",
   "mimetype": "text/x-python",
   "name": "python",
   "nbconvert_exporter": "python",
   "pygments_lexer": "ipython3",
   "version": "3.9.18"
  }
 },
 "nbformat": 4,
 "nbformat_minor": 5
}
