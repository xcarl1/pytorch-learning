{
 "cells": [
  {
   "cell_type": "code",
   "execution_count": 1,
   "id": "32174a6f-9221-4874-bcac-3beed2f3b59b",
   "metadata": {},
   "outputs": [],
   "source": [
    "import numpy as np\n",
    "import torch\n",
    "from torchvision import transforms #将图片转化成适合运行的形式\n",
    "from torchvision import datasets #导入minist数据集\n",
    "from torch.utils.data import DataLoader #数据集加载\n",
    "import torch.nn.functional as F #提供relu函数\n",
    "import torch.optim as optim #提供优化器"
   ]
  },
  {
   "cell_type": "code",
   "execution_count": 2,
   "id": "76f2de46-dcdc-4e90-994e-c3872862669f",
   "metadata": {},
   "outputs": [
    {
     "name": "stdout",
     "output_type": "stream",
     "text": [
      "1.201942848229244\n"
     ]
    }
   ],
   "source": [
    "#numpy中的NLLLoss=-YlogY_hat\n",
    "y=[1,0,0]\n",
    "z=[0.3,0.4,0.5]\n",
    "y_pred=np.exp(z)/np.exp(z).sum()\n",
    "loss=-(y*np.log(y_pred)).sum()\n",
    "print(loss)"
   ]
  },
  {
   "cell_type": "code",
   "execution_count": 3,
   "id": "9ee4e993-df1d-45b1-be7b-a3d06d1ae1cf",
   "metadata": {},
   "outputs": [
    {
     "name": "stdout",
     "output_type": "stream",
     "text": [
      "The loss of y_pred1 is:0.733657,The loss of y_pred2 is:1.270383\n"
     ]
    }
   ],
   "source": [
    "#CrossEntropyLoss==LogSoftmax+NLLLoss\n",
    "#用pytorch实现一下\n",
    "criterion=torch.nn.CrossEntropyLoss()\n",
    "y=torch.LongTensor([2,0,1])\n",
    "y_pred1=torch.Tensor([\n",
    "    [0.1,0.3,0.9],\n",
    "    [0.8,0.3,0.2],\n",
    "    [0.3,0.9,0.3]\n",
    "])\n",
    "y_pred2=torch.Tensor([\n",
    "    [0.6,0.3,0.2],\n",
    "    [0.3,0.6,0.6],\n",
    "    [0.7,0.3,0.2]\n",
    "])\n",
    "loss_1=criterion(y_pred1,y)\n",
    "loss_2=criterion(y_pred2,y)\n",
    "print('The loss of y_pred1 is:%f,The loss of y_pred2 is:%f'%(loss_1.item(),loss_2.item()))"
   ]
  },
  {
   "cell_type": "code",
   "execution_count": 4,
   "id": "2be4727d-b210-4597-8e0b-d8a196322937",
   "metadata": {},
   "outputs": [],
   "source": [
    "#数据处理，加载数据集\n",
    "batch_size=64\n",
    "transform=transforms.Compose([transforms.ToTensor(),transforms.Normalize((0.1307,),(0.3081,))]) #设置均值和方差，是一个经验数据\n",
    "train_data=datasets.MNIST(root='C:/Users/Administrator/Desktop/datasets/Mnist_download',download=True,train=True,transform=transform)\n",
    "train_loader=DataLoader(train_data,shuffle=True,batch_size=batch_size)\n",
    "test_data=datasets.MNIST(root='C:/Users/Administrator/Desktop/datasets/Mnist_download',download=True,train=False,transform=transform)\n",
    "test_loader=DataLoader(test_data,shuffle=False,batch_size=batch_size)"
   ]
  },
  {
   "cell_type": "code",
   "execution_count": 5,
   "id": "c95580c4-5922-47b7-9b93-813b9195c34e",
   "metadata": {},
   "outputs": [],
   "source": [
    "#Model\n",
    "class Net(torch.nn.Module):\n",
    "    def __init__(self):\n",
    "        super(Net,self).__init__()\n",
    "        self.linear1=torch.nn.Linear(784,512)\n",
    "        self.linear2=torch.nn.Linear(512,256)\n",
    "        self.linear3=torch.nn.Linear(256,128)\n",
    "        self.linear4=torch.nn.Linear(128,64)\n",
    "        self.linear5=torch.nn.Linear(64,10)\n",
    "    def forward(self,x):\n",
    "        x=x.view(-1,784)\n",
    "        x=F.relu(self.linear1(x))\n",
    "        x=F.relu(self.linear2(x))\n",
    "        x=F.relu(self.linear3(x))\n",
    "        x=F.relu(self.linear4(x))\n",
    "        x=self.linear5(x)\n",
    "        return x\n",
    "model=Net()"
   ]
  },
  {
   "cell_type": "code",
   "execution_count": 6,
   "id": "17c5b734-d1f8-44cf-8974-7d8967a0e987",
   "metadata": {},
   "outputs": [],
   "source": [
    "#定义损失和优化\n",
    "criterion=torch.nn.CrossEntropyLoss()\n",
    "optimizer=optim.SGD(model.parameters(),lr=0.01,momentum=0.5) #momentum=0.5是动量"
   ]
  },
  {
   "cell_type": "code",
   "execution_count": 7,
   "id": "6750f9dd-2327-4f54-b204-152ed5cbe5de",
   "metadata": {},
   "outputs": [],
   "source": [
    "#定义训练和测试函数\n",
    "def train(epoch):\n",
    "    loss_running=0.0\n",
    "    for i,data in enumerate(train_loader,0):\n",
    "        inputs,labels=data\n",
    "        outputs=model(inputs)\n",
    "        loss=criterion(outputs,labels)\n",
    "        optimizer.zero_grad()\n",
    "        loss.backward()\n",
    "        optimizer.step()\n",
    "\n",
    "        loss_running+=loss.item()\n",
    "        if i%200==199:\n",
    "            print('[%d,%d] loss:%.4f'%(epoch+1,i+1,loss_running/200))\n",
    "            loss_running=0\n",
    "def test():\n",
    "    correct=0\n",
    "    total=0\n",
    "    with torch.no_grad():\n",
    "        for data in test_loader:\n",
    "            inputs,labels=data\n",
    "            outputs=model(inputs)\n",
    "            outputs=torch.max(outputs,dim=1)\n",
    "            total+=labels.size(0)\n",
    "            correct+=torch.sum(outputs.indices==labels).item()\n",
    "        print('Accuracy on test set is:%.3f'%(correct/total))"
   ]
  },
  {
   "cell_type": "code",
   "execution_count": 8,
   "id": "f033a7cf-f583-47ae-9c70-4dc0fa531c0a",
   "metadata": {},
   "outputs": [
    {
     "name": "stdout",
     "output_type": "stream",
     "text": [
      "[1,200] loss:2.2810\n",
      "[1,400] loss:1.8380\n",
      "[1,600] loss:0.7074\n",
      "[1,800] loss:0.4718\n",
      "Accuracy on test set is:0.898\n",
      "[2,200] loss:0.3164\n",
      "[2,400] loss:0.2931\n",
      "[2,600] loss:0.2526\n",
      "[2,800] loss:0.2449\n",
      "Accuracy on test set is:0.940\n",
      "[3,200] loss:0.1824\n",
      "[3,400] loss:0.1839\n",
      "[3,600] loss:0.1590\n",
      "[3,800] loss:0.1610\n",
      "Accuracy on test set is:0.957\n",
      "[4,200] loss:0.1274\n",
      "[4,400] loss:0.1241\n",
      "[4,600] loss:0.1216\n",
      "[4,800] loss:0.1107\n",
      "Accuracy on test set is:0.966\n",
      "[5,200] loss:0.0944\n",
      "[5,400] loss:0.0955\n",
      "[5,600] loss:0.0901\n",
      "[5,800] loss:0.0934\n",
      "Accuracy on test set is:0.972\n",
      "[6,200] loss:0.0768\n",
      "[6,400] loss:0.0729\n",
      "[6,600] loss:0.0715\n",
      "[6,800] loss:0.0721\n",
      "Accuracy on test set is:0.973\n",
      "[7,200] loss:0.0550\n",
      "[7,400] loss:0.0580\n",
      "[7,600] loss:0.0645\n",
      "[7,800] loss:0.0642\n",
      "Accuracy on test set is:0.975\n",
      "[8,200] loss:0.0496\n",
      "[8,400] loss:0.0496\n",
      "[8,600] loss:0.0497\n",
      "[8,800] loss:0.0487\n",
      "Accuracy on test set is:0.975\n",
      "[9,200] loss:0.0378\n",
      "[9,400] loss:0.0384\n",
      "[9,600] loss:0.0369\n",
      "[9,800] loss:0.0415\n",
      "Accuracy on test set is:0.974\n",
      "[10,200] loss:0.0303\n",
      "[10,400] loss:0.0322\n",
      "[10,600] loss:0.0312\n",
      "[10,800] loss:0.0353\n",
      "Accuracy on test set is:0.975\n"
     ]
    }
   ],
   "source": [
    "#过程\n",
    "if __name__=='__main__':\n",
    "    for j in range(10):\n",
    "        train(j)\n",
    "        test()"
   ]
  },
  {
   "cell_type": "code",
   "execution_count": null,
   "id": "d4c2589b-266e-40ef-bbb8-4888defcd9b0",
   "metadata": {},
   "outputs": [],
   "source": []
  }
 ],
 "metadata": {
  "kernelspec": {
   "display_name": "Python 3 (ipykernel)",
   "language": "python",
   "name": "python3"
  },
  "language_info": {
   "codemirror_mode": {
    "name": "ipython",
    "version": 3
   },
   "file_extension": ".py",
   "mimetype": "text/x-python",
   "name": "python",
   "nbconvert_exporter": "python",
   "pygments_lexer": "ipython3",
   "version": "3.9.18"
  }
 },
 "nbformat": 4,
 "nbformat_minor": 5
}
