{
 "cells": [
  {
   "cell_type": "code",
   "execution_count": 3,
   "id": "b4bc57ca-1e16-4d54-b49c-045fb9893c5a",
   "metadata": {},
   "outputs": [],
   "source": [
    "import torch\n",
    "from torch.utils.data import DataLoader\n",
    "from torchvision import datasets\n",
    "from torchvision import transforms\n",
    "import torch.optim as optim\n",
    "import torch.nn.functional as F\n",
    "import matplotlib\n",
    "import matplotlib.pyplot as plt "
   ]
  },
  {
   "cell_type": "code",
   "execution_count": 2,
   "id": "fb12cef3-d4f9-44fe-adc2-c83688c037f5",
   "metadata": {},
   "outputs": [],
   "source": [
    "#输入数据\n",
    "accuracy_result=[]\n",
    "batch_size=64\n",
    "transform=transforms.Compose([transforms.ToTensor(),transforms.Normalize(mean=[0.1307],std=[0.3081])])\n",
    "train_data=datasets.MNIST(root='C:/Users/Administrator/Desktop/datasets/Mnist_download',train=True,download=False,transform=transform)\n",
    "train_loader=DataLoader(train_data,shuffle=True,batch_size=batch_size)\n",
    "test_data=datasets.MNIST(root='C:/Users/Administrator/Desktop/datasets/Mnist_download',train=False,download=False,transform=transform)\n",
    "test_loader=DataLoader(test_data,shuffle=True,batch_size=batch_size)"
   ]
  },
  {
   "cell_type": "code",
   "execution_count": 14,
   "id": "c1899310-564b-42ca-9364-ab04fd0a14ab",
   "metadata": {},
   "outputs": [
    {
     "data": {
      "text/plain": [
       "Net(\n",
       "  (Conv1): Conv2d(1, 16, kernel_size=(5, 5), stride=(1, 1))\n",
       "  (MaxPool): MaxPool2d(kernel_size=2, stride=2, padding=0, dilation=1, ceil_mode=False)\n",
       "  (residual1): ResidualBlock(\n",
       "    (Conv1): Conv2d(16, 16, kernel_size=(3, 3), stride=(1, 1), padding=(1, 1))\n",
       "    (Conv2): Conv2d(16, 16, kernel_size=(3, 3), stride=(1, 1), padding=(1, 1))\n",
       "  )\n",
       "  (Conv2): Conv2d(16, 32, kernel_size=(5, 5), stride=(1, 1))\n",
       "  (residual2): ResidualBlock(\n",
       "    (Conv1): Conv2d(32, 32, kernel_size=(3, 3), stride=(1, 1), padding=(1, 1))\n",
       "    (Conv2): Conv2d(32, 32, kernel_size=(3, 3), stride=(1, 1), padding=(1, 1))\n",
       "  )\n",
       "  (fc): Linear(in_features=512, out_features=10, bias=True)\n",
       ")"
      ]
     },
     "execution_count": 14,
     "metadata": {},
     "output_type": "execute_result"
    }
   ],
   "source": [
    "#定义网络\n",
    "class ResidualBlock(torch.nn.Module):\n",
    "    def __init__(self,channels):\n",
    "        super(ResidualBlock,self).__init__()\n",
    "        self.Conv1=torch.nn.Conv2d(channels,channels,kernel_size=3,padding=1)\n",
    "        self.Conv2=torch.nn.Conv2d(channels,channels,kernel_size=3,padding=1)\n",
    "\n",
    "    def forward(self,x):\n",
    "        y=F.relu(self.Conv1(x))\n",
    "        y=self.Conv2(y)\n",
    "        return (x+y)\n",
    "\n",
    "class Net(torch.nn.Module):\n",
    "    def __init__(self):\n",
    "        super(Net,self).__init__()\n",
    "        self.Conv1=torch.nn.Conv2d(1,16,kernel_size=5)\n",
    "        self.MaxPool=torch.nn.MaxPool2d(2)\n",
    "        self.residual1=ResidualBlock(16)\n",
    "        self.Conv2=torch.nn.Conv2d(16,32,kernel_size=5)\n",
    "        self.residual2=ResidualBlock(32)\n",
    "        self.fc=torch.nn.Linear(512,10)\n",
    "\n",
    "    def forward(self,x):\n",
    "        in_size=x.size(0)\n",
    "        x=F.relu(self.Conv1(x))\n",
    "        x=self.MaxPool(x)\n",
    "        x=self.residual1(x)\n",
    "        x=F.relu(self.Conv2(x))\n",
    "        x=self.MaxPool(x)\n",
    "        x=self.residual2(x)\n",
    "        x=x.view(in_size,-1)\n",
    "        x=self.fc(x)\n",
    "        return x\n",
    "\n",
    "model=Net()\n",
    "device=torch.device('cuda' if torch.cuda.is_available() else \"cpu\")\n",
    "model.to(device)"
   ]
  },
  {
   "cell_type": "code",
   "execution_count": 16,
   "id": "03eee25f-a583-41d7-899a-a2dee0b6ca41",
   "metadata": {},
   "outputs": [],
   "source": [
    "#定义损失和优化\n",
    "criterion=torch.nn.CrossEntropyLoss()\n",
    "optimizer=optim.SGD(model.parameters(),lr=0.01,momentum=0.5)"
   ]
  },
  {
   "cell_type": "code",
   "execution_count": 17,
   "id": "559dcf42-23d3-4fe2-bac4-6e005d2cedc0",
   "metadata": {},
   "outputs": [],
   "source": [
    "#训练和测试\n",
    "def train(epoch):\n",
    "    loss_running=0.0\n",
    "    for i,data in enumerate(train_loader,0):\n",
    "        input,labels=data #prepare data\n",
    "        input,labels=input.to(device),labels.to(device)\n",
    "        output=model(input) #forward\n",
    "        loss=criterion(output,labels)\n",
    "        optimizer.zero_grad() \n",
    "        loss.backward() #backward\n",
    "        optimizer.step() #updata\n",
    "        loss_running+=loss.item()\n",
    "        if i%300==299:\n",
    "            print(\"[%d,%d],average_loss is:%.4f\"%(epoch+1,i+1,loss_running/200))\n",
    "            loss_running=0\n",
    "def test():\n",
    "    correct=0\n",
    "    total=0\n",
    "    with torch.no_grad():\n",
    "        for data in test_loader:\n",
    "            input,labels=data\n",
    "            input,labels=input.to(device),labels.to(device)\n",
    "            output=model(input)\n",
    "            output=torch.max(output,dim=1)\n",
    "            correct+=torch.sum(output.indices==labels).item()\n",
    "            total+=labels.size(0)\n",
    "        print(\"The test_data accuracy is:%.4f\"%(correct/total))\n",
    "        accuracy_result.append(correct/total)  "
   ]
  },
  {
   "cell_type": "code",
   "execution_count": 18,
   "id": "c4ac266f-0802-4ec2-a6a0-52ab0bb4dbbd",
   "metadata": {},
   "outputs": [
    {
     "name": "stdout",
     "output_type": "stream",
     "text": [
      "[1,300],average_loss is:0.7210\n",
      "[1,600],average_loss is:0.2099\n",
      "[1,900],average_loss is:0.1674\n",
      "The test_data accuracy is:0.9762\n",
      "[2,300],average_loss is:0.1229\n",
      "[2,600],average_loss is:0.1113\n",
      "[2,900],average_loss is:0.0997\n",
      "The test_data accuracy is:0.9841\n",
      "[3,300],average_loss is:0.0848\n",
      "[3,600],average_loss is:0.0845\n",
      "[3,900],average_loss is:0.0795\n",
      "The test_data accuracy is:0.9870\n",
      "[4,300],average_loss is:0.0686\n",
      "[4,600],average_loss is:0.0719\n",
      "[4,900],average_loss is:0.0628\n",
      "The test_data accuracy is:0.9887\n",
      "[5,300],average_loss is:0.0585\n",
      "[5,600],average_loss is:0.0601\n",
      "[5,900],average_loss is:0.0547\n",
      "The test_data accuracy is:0.9879\n",
      "[6,300],average_loss is:0.0525\n",
      "[6,600],average_loss is:0.0498\n",
      "[6,900],average_loss is:0.0483\n",
      "The test_data accuracy is:0.9900\n",
      "[7,300],average_loss is:0.0423\n",
      "[7,600],average_loss is:0.0453\n",
      "[7,900],average_loss is:0.0438\n",
      "The test_data accuracy is:0.9897\n",
      "[8,300],average_loss is:0.0361\n",
      "[8,600],average_loss is:0.0393\n",
      "[8,900],average_loss is:0.0426\n",
      "The test_data accuracy is:0.9863\n",
      "[9,300],average_loss is:0.0334\n",
      "[9,600],average_loss is:0.0368\n",
      "[9,900],average_loss is:0.0370\n",
      "The test_data accuracy is:0.9890\n",
      "[10,300],average_loss is:0.0265\n",
      "[10,600],average_loss is:0.0385\n",
      "[10,900],average_loss is:0.0291\n",
      "The test_data accuracy is:0.9906\n"
     ]
    }
   ],
   "source": [
    "if __name__=='__main__':\n",
    "    for epoch in range(10):\n",
    "        train(epoch)\n",
    "        test()"
   ]
  },
  {
   "cell_type": "code",
   "execution_count": 19,
   "id": "37d25ef2-2395-4b1a-bbca-242b925e3906",
   "metadata": {},
   "outputs": [
    {
     "data": {
      "text/plain": [
       "[<matplotlib.lines.Line2D at 0x2db1ff7dfd0>]"
      ]
     },
     "execution_count": 19,
     "metadata": {},
     "output_type": "execute_result"
    },
    {
     "data": {
      "image/png": "[encoded data removed]",
      "text/plain": [
       "<Figure size 640x480 with 1 Axes>"
      ]
     },
     "metadata": {},
     "output_type": "display_data"
    }
   ],
   "source": [
    "plt.figure()\n",
    "plt.title(\"The test accuracy for each epoch\")\n",
    "plt.plot(list(range(1,11)),accuracy_result)"
   ]
  },
  {
   "cell_type": "code",
   "execution_count": null,
   "id": "19c005f9-e5a6-48fa-8b65-bae7afd5c283",
   "metadata": {},
   "outputs": [],
   "source": []
  }
 ],
 "metadata": {
  "kernelspec": {
   "display_name": "Python 3 (ipykernel)",
   "language": "python",
   "name": "python3"
  },
  "language_info": {
   "codemirror_mode": {
    "name": "ipython",
    "version": 3
   },
   "file_extension": ".py",
   "mimetype": "text/x-python",
   "name": "python",
   "nbconvert_exporter": "python",
   "pygments_lexer": "ipython3",
   "version": "3.9.18"
  }
 },
 "nbformat": 4,
 "nbformat_minor": 5
}
