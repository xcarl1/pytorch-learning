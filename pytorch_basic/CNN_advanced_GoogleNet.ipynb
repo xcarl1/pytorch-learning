{
 "cells": [
  {
   "cell_type": "code",
   "execution_count": 1,
   "id": "b527cc8f-1dbe-46a1-9512-9b869aef35d1",
   "metadata": {},
   "outputs": [],
   "source": [
    "import torch\n",
    "from torchvision import transforms\n",
    "from torchvision import datasets\n",
    "import torch.nn.functional as F\n",
    "from torch.utils.data import DataLoader\n",
    "import torch.optim as optim\n",
    "import matplotlib\n",
    "import matplotlib.pyplot as plt"
   ]
  },
  {
   "cell_type": "code",
   "execution_count": 2,
   "id": "6dbfbd14-4da0-43cd-aee1-95319728f91a",
   "metadata": {},
   "outputs": [],
   "source": [
    "#画图准备\n",
    "accuracy_result=[]"
   ]
  },
  {
   "cell_type": "code",
   "execution_count": 3,
   "id": "afba4101-16fa-466d-8c14-2857b8cc1d4f",
   "metadata": {},
   "outputs": [],
   "source": [
    "#导入数据集\n",
    "batch_size=64\n",
    "transform=transforms.Compose([transforms.ToTensor(),transforms.Normalize(mean=[0.1307],std=[0.3081])])\n",
    "train_data=datasets.MNIST(root='C:/Users/Administrator/Desktop/datasets/Mnist_download',train=True,download=False,transform=transform)\n",
    "train_loader=DataLoader(train_data,shuffle=True,batch_size=batch_size)\n",
    "test_data=datasets.MNIST(root='C:/Users/Administrator/Desktop/datasets/Mnist_download',train=False,download=False,transform=transform)\n",
    "test_loader=DataLoader(test_data,shuffle=False,batch_size=batch_size)"
   ]
  },
  {
   "cell_type": "code",
   "execution_count": 4,
   "id": "33d99ba1-aece-4d60-b509-bae7ee2ee49b",
   "metadata": {},
   "outputs": [],
   "source": [
    "#Inception Module\n",
    "class InceptionA(torch.nn.Module):\n",
    "    def __init__(self,in_channels_size):\n",
    "        super(InceptionA,self).__init__()\n",
    "        self.Avg_Pooling=torch.nn.AvgPool2d(kernel_size=3,stride=1,padding=1)\n",
    "        self.Conv1x1_1=torch.nn.Conv2d(in_channels_size,24,kernel_size=1)\n",
    "        \n",
    "        self.Conv1x1_2=torch.nn.Conv2d(in_channels_size,16,kernel_size=1)\n",
    "\n",
    "        self.Conv5x5=torch.nn.Conv2d(16,24,kernel_size=5,padding=2)\n",
    "        \n",
    "        self.Conv3x3_1=torch.nn.Conv2d(16,24,kernel_size=3,padding=1)\n",
    "        self.Conv3x3_2=torch.nn.Conv2d(24,24,kernel_size=3,padding=1)\n",
    "        \n",
    "    def forward(self,x):\n",
    "        branch1=self.Avg_Pooling(x)\n",
    "        branch1=self.Conv1x1_1(branch1)\n",
    "\n",
    "        branch2=self.Conv1x1_2(x)\n",
    "        \n",
    "        branch3=self.Conv1x1_2(x)\n",
    "        branch3=self.Conv5x5(branch3)\n",
    "\n",
    "        branch4=self.Conv1x1_2(x)\n",
    "        branch4=self.Conv3x3_1(branch4)\n",
    "        branch4=self.Conv3x3_2(branch4)\n",
    "\n",
    "        result=torch.cat([branch1,branch2,branch3,branch4],dim=1)\n",
    "        return result\n",
    "# Inception=InceptionA(in_channels_size=1)\n",
    "# input=torch.randn(1,1,28,28)\n",
    "# output=Inception(input)\n",
    "# print(output.shape)"
   ]
  },
  {
   "cell_type": "code",
   "execution_count": 5,
   "id": "c473acf0-8417-45cf-8def-b29f7ea2519e",
   "metadata": {},
   "outputs": [
    {
     "data": {
      "text/plain": [
       "Net1(\n",
       "  (Conv1): Conv2d(1, 10, kernel_size=(5, 5), stride=(1, 1))\n",
       "  (MaxPool): MaxPool2d(kernel_size=2, stride=2, padding=0, dilation=1, ceil_mode=False)\n",
       "  (incept1): InceptionA(\n",
       "    (Avg_Pooling): AvgPool2d(kernel_size=3, stride=1, padding=1)\n",
       "    (Conv1x1_1): Conv2d(10, 24, kernel_size=(1, 1), stride=(1, 1))\n",
       "    (Conv1x1_2): Conv2d(10, 16, kernel_size=(1, 1), stride=(1, 1))\n",
       "    (Conv5x5): Conv2d(16, 24, kernel_size=(5, 5), stride=(1, 1), padding=(2, 2))\n",
       "    (Conv3x3_1): Conv2d(16, 24, kernel_size=(3, 3), stride=(1, 1), padding=(1, 1))\n",
       "    (Conv3x3_2): Conv2d(24, 24, kernel_size=(3, 3), stride=(1, 1), padding=(1, 1))\n",
       "  )\n",
       "  (Conv2): Conv2d(88, 20, kernel_size=(5, 5), stride=(1, 1))\n",
       "  (incept2): InceptionA(\n",
       "    (Avg_Pooling): AvgPool2d(kernel_size=3, stride=1, padding=1)\n",
       "    (Conv1x1_1): Conv2d(20, 24, kernel_size=(1, 1), stride=(1, 1))\n",
       "    (Conv1x1_2): Conv2d(20, 16, kernel_size=(1, 1), stride=(1, 1))\n",
       "    (Conv5x5): Conv2d(16, 24, kernel_size=(5, 5), stride=(1, 1), padding=(2, 2))\n",
       "    (Conv3x3_1): Conv2d(16, 24, kernel_size=(3, 3), stride=(1, 1), padding=(1, 1))\n",
       "    (Conv3x3_2): Conv2d(24, 24, kernel_size=(3, 3), stride=(1, 1), padding=(1, 1))\n",
       "  )\n",
       "  (fc): Linear(in_features=1408, out_features=10, bias=True)\n",
       ")"
      ]
     },
     "execution_count": 5,
     "metadata": {},
     "output_type": "execute_result"
    }
   ],
   "source": [
    "#Net\n",
    "class Net1(torch.nn.Module):\n",
    "    def __init__(self):\n",
    "        super(Net1,self).__init__()\n",
    "        self.Conv1=torch.nn.Conv2d(1,10,kernel_size=5)\n",
    "        self.MaxPool=torch.nn.MaxPool2d(2)\n",
    "        self.incept1=InceptionA(10)\n",
    "        self.Conv2=torch.nn.Conv2d(88,20,kernel_size=5)\n",
    "        self.incept2=InceptionA(20)\n",
    "        self.fc=torch.nn.Linear(1408,10)\n",
    "\n",
    "    def forward(self,x):\n",
    "        batch_size=x.size(0)\n",
    "        x=self.Conv1(x)\n",
    "        x=F.relu(self.MaxPool(x))\n",
    "        x=self.incept1(x)\n",
    "        x=self.Conv2(x)\n",
    "        x=F.relu(self.MaxPool(x))\n",
    "        x=self.incept2(x)\n",
    "        x=x.view(batch_size,-1)\n",
    "        x=self.fc(x)\n",
    "        return x\n",
    "# model=Net()\n",
    "# x=torch.randn(1,1,28,28)\n",
    "# y=model(x)\n",
    "# print(y.shape)\n",
    "model1=Net1()\n",
    "device=torch.device('cuda' if torch.cuda.is_available() else 'cpu')\n",
    "model1.to(device)"
   ]
  },
  {
   "cell_type": "code",
   "execution_count": 6,
   "id": "b8a7d75e-f513-4efc-a061-68c48e4f3f1c",
   "metadata": {},
   "outputs": [],
   "source": [
    "#定义损失和优化\n",
    "criterion=torch.nn.CrossEntropyLoss()\n",
    "optimizer=optim.SGD(model1.parameters(),lr=0.01,momentum=0.5)"
   ]
  },
  {
   "cell_type": "code",
   "execution_count": 7,
   "id": "f7746e42-8f8c-4baa-9be6-cdea124c8a3c",
   "metadata": {},
   "outputs": [],
   "source": [
    "#定义训练和测试\n",
    "def train(epoch):\n",
    "    loss_running=0.0\n",
    "    for i,data in enumerate(train_loader,0):\n",
    "        input,labels=data #prepare data\n",
    "        input,labels=input.to(device),labels.to(device)\n",
    "        output=model1(input) #forward\n",
    "        loss=criterion(output,labels)\n",
    "        optimizer.zero_grad() \n",
    "        loss.backward() #backward\n",
    "        optimizer.step() #updata\n",
    "        loss_running+=loss.item()\n",
    "        if i%300==299:\n",
    "            print(\"[%d,%d],average_loss is:%.4f\"%(epoch+1,i+1,loss_running/200))\n",
    "            loss_running=0\n",
    "def test():\n",
    "    correct=0\n",
    "    total=0\n",
    "    with torch.no_grad():\n",
    "        for data in test_loader:\n",
    "            input,labels=data\n",
    "            input,labels=input.to(device),labels.to(device)\n",
    "            output=model1(input)\n",
    "            output=torch.max(output,dim=1)\n",
    "            correct+=torch.sum(output.indices==labels).item()\n",
    "            total+=labels.size(0)\n",
    "        print(\"The test_data accuracy is:%.4f\"%(correct/total))\n",
    "        accuracy_result.append(correct/total)      "
   ]
  },
  {
   "cell_type": "code",
   "execution_count": 8,
   "id": "7d72208a-e505-4f23-9ae7-e7f1d9fed67b",
   "metadata": {},
   "outputs": [
    {
     "name": "stdout",
     "output_type": "stream",
     "text": [
      "[1,300],average_loss is:1.3252\n",
      "[1,600],average_loss is:0.3400\n",
      "[1,900],average_loss is:0.2441\n",
      "The test_data accuracy is:0.9674\n",
      "[2,300],average_loss is:0.1770\n",
      "[2,600],average_loss is:0.1535\n",
      "[2,900],average_loss is:0.1355\n",
      "The test_data accuracy is:0.9761\n",
      "[3,300],average_loss is:0.1231\n",
      "[3,600],average_loss is:0.1209\n",
      "[3,900],average_loss is:0.1034\n",
      "The test_data accuracy is:0.9811\n",
      "[4,300],average_loss is:0.0931\n",
      "[4,600],average_loss is:0.0972\n",
      "[4,900],average_loss is:0.0980\n",
      "The test_data accuracy is:0.9800\n",
      "[5,300],average_loss is:0.0802\n",
      "[5,600],average_loss is:0.0864\n",
      "[5,900],average_loss is:0.0841\n",
      "The test_data accuracy is:0.9851\n",
      "[6,300],average_loss is:0.0739\n",
      "[6,600],average_loss is:0.0789\n",
      "[6,900],average_loss is:0.0703\n",
      "The test_data accuracy is:0.9873\n",
      "[7,300],average_loss is:0.0645\n",
      "[7,600],average_loss is:0.0675\n",
      "[7,900],average_loss is:0.0704\n",
      "The test_data accuracy is:0.9849\n",
      "[8,300],average_loss is:0.0611\n",
      "[8,600],average_loss is:0.0597\n",
      "[8,900],average_loss is:0.0639\n",
      "The test_data accuracy is:0.9870\n",
      "[9,300],average_loss is:0.0567\n",
      "[9,600],average_loss is:0.0563\n",
      "[9,900],average_loss is:0.0526\n",
      "The test_data accuracy is:0.9852\n",
      "[10,300],average_loss is:0.0504\n",
      "[10,600],average_loss is:0.0529\n",
      "[10,900],average_loss is:0.0513\n",
      "The test_data accuracy is:0.9883\n"
     ]
    }
   ],
   "source": [
    "if __name__=='__main__':\n",
    "    for epoch in range(10):\n",
    "        train(epoch)\n",
    "        test()"
   ]
  },
  {
   "cell_type": "code",
   "execution_count": 9,
   "id": "bfc9caad-c9c5-4dc6-b155-4a9ac0c6bb6a",
   "metadata": {},
   "outputs": [
    {
     "data": {
      "text/plain": [
       "[<matplotlib.lines.Line2D at 0x1739baad2e0>]"
      ]
     },
     "execution_count": 9,
     "metadata": {},
     "output_type": "execute_result"
    },
    {
     "data": {
      "image/png": "[encoded data removed]",
      "text/plain": [
       "<Figure size 640x480 with 1 Axes>"
      ]
     },
     "metadata": {},
     "output_type": "display_data"
    }
   ],
   "source": [
    "plt.figure()\n",
    "plt.title(\"The test accuracy for each epoch\")\n",
    "plt.plot(list(range(1,11)),accuracy_result)"
   ]
  },
  {
   "cell_type": "code",
   "execution_count": null,
   "id": "69adfafe-865e-482d-97bc-a8a895904587",
   "metadata": {},
   "outputs": [],
   "source": []
  }
 ],
 "metadata": {
  "kernelspec": {
   "display_name": "Python 3 (ipykernel)",
   "language": "python",
   "name": "python3"
  },
  "language_info": {
   "codemirror_mode": {
    "name": "ipython",
    "version": 3
   },
   "file_extension": ".py",
   "mimetype": "text/x-python",
   "name": "python",
   "nbconvert_exporter": "python",
   "pygments_lexer": "ipython3",
   "version": "3.9.18"
  }
 },
 "nbformat": 4,
 "nbformat_minor": 5
}
