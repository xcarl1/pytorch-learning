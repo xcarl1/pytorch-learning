{
 "cells": [
  {
   "cell_type": "code",
   "execution_count": 34,
   "id": "09e48953-6d21-4571-bd86-e80358dccbc5",
   "metadata": {},
   "outputs": [],
   "source": [
    "import numpy as np\n",
    "from sklearn import datasets\n",
    "from sklearn.model_selection import train_test_split\n",
    "from sklearn.neighbors import KNeighborsClassifier\n",
    "from sklearn.linear_model import LinearRegression\n",
    "import matplotlib.pyplot as plt\n",
    "from sklearn import preprocessing \n",
    "from sklearn.preprocessing import StandardScaler"
   ]
  },
  {
   "cell_type": "code",
   "execution_count": 5,
   "id": "36c7af03-a62c-4ec1-a9d4-e6890cd6de02",
   "metadata": {},
   "outputs": [
    {
     "name": "stdout",
     "output_type": "stream",
     "text": [
      "[[5.1 3.5 1.4 0.2]\n",
      " [4.9 3.  1.4 0.2]]\n",
      "[0 0 0 0 0 0 0 0 0 0 0 0 0 0 0 0 0 0 0 0 0 0 0 0 0 0 0 0 0 0 0 0 0 0 0 0 0\n",
      " 0 0 0 0 0 0 0 0 0 0 0 0 0 1 1 1 1 1 1 1 1 1 1 1 1 1 1 1 1 1 1 1 1 1 1 1 1\n",
      " 1 1 1 1 1 1 1 1 1 1 1 1 1 1 1 1 1 1 1 1 1 1 1 1 1 1 2 2 2 2 2 2 2 2 2 2 2\n",
      " 2 2 2 2 2 2 2 2 2 2 2 2 2 2 2 2 2 2 2 2 2 2 2 2 2 2 2 2 2 2 2 2 2 2 2 2 2\n",
      " 2 2]\n"
     ]
    }
   ],
   "source": [
    "iris=datasets.load_iris()\n",
    "iris_X=iris.data\n",
    "iris_y=iris.target\n",
    "print(iris_X[:2,:])\n",
    "print(iris_y)"
   ]
  },
  {
   "cell_type": "code",
   "execution_count": 8,
   "id": "167ffd26-ec40-41a1-8852-fa0bf30e21fe",
   "metadata": {},
   "outputs": [
    {
     "name": "stdout",
     "output_type": "stream",
     "text": [
      "[0 1 1 2 0 2 2 2 1 0 2 0 2 1 0 2 0 2 0 0 0 0 2 0 0 2 0 1 1 0 1 1 2 0 0 2 2\n",
      " 1 0 2 1 0 0 2 1 0 2 2 1 0 0 0 0 2 1 2 0 1 2 1 2 1 1 0 0 0 2 0 1 2 1 1 0 1\n",
      " 2 1 0 2 0 2 1 2 2 1 1 0 1 1 1 0 2 1 2 0 1 0 2 1 1 1 0 0 1 2 2]\n"
     ]
    }
   ],
   "source": [
    "X_train,X_test,y_train,y_test=train_test_split(iris_X,iris_y,test_size=0.3)\n",
    "print(y_train)"
   ]
  },
  {
   "cell_type": "code",
   "execution_count": 13,
   "id": "f2993a9c-7363-4829-b5ed-bd3a16b75aac",
   "metadata": {},
   "outputs": [
    {
     "name": "stdout",
     "output_type": "stream",
     "text": [
      "[0 0 0 1 1 1 0 1 2 2 0 0 1 1 2 2 1 2 2 0 2 0 0 1 1 2 0 1 1 1 2 1 2 1 2 2 2\n",
      " 1 2 2 2 1 2 0 0]\n",
      "[0 0 0 1 1 1 0 1 2 2 0 0 1 1 2 2 1 2 2 0 2 0 0 2 1 2 0 1 2 1 2 1 2 1 2 2 2\n",
      " 1 2 1 2 1 2 0 0]\n",
      "0.9333333333333333\n"
     ]
    }
   ],
   "source": [
    "knn=KNeighborsClassifier()\n",
    "knn.fit(X_train,y_train)\n",
    "y_pred=knn.predict(X_test)\n",
    "print(y_test)\n",
    "print(y_pred)\n",
    "print(np.mean(y_test==y_pred))"
   ]
  },
  {
   "cell_type": "code",
   "execution_count": 24,
   "id": "ddebdb47-68d0-45ac-92f4-8f1be47eb61e",
   "metadata": {},
   "outputs": [
    {
     "data": {
      "image/png": "[encoded data removed]",
      "text/plain": [
       "<Figure size 640x480 with 1 Axes>"
      ]
     },
     "metadata": {},
     "output_type": "display_data"
    }
   ],
   "source": [
    "X,y=datasets.make_regression(n_samples=100,n_features=1,n_targets=1,noise=10)\n",
    "plt.scatter(X,y)\n",
    "plt.show()"
   ]
  },
  {
   "cell_type": "code",
   "execution_count": 25,
   "id": "52e43e7a-f296-425e-8b6e-bfc205e94d44",
   "metadata": {},
   "outputs": [
    {
     "name": "stdout",
     "output_type": "stream",
     "text": [
      "[-1.270191   11.06670005 34.85183402 71.0792162 ]\n",
      "[-6.90027678 20.77186107 33.13815378 74.08159344]\n"
     ]
    }
   ],
   "source": [
    "linear_model= LinearRegression()\n",
    "linear_model.fit(X,y)\n",
    "y_pred=linear_model.predict(X[:4,:])\n",
    "print(y_pred)\n",
    "print(y[:4])"
   ]
  },
  {
   "cell_type": "code",
   "execution_count": 28,
   "id": "85636696-b281-4fb2-8a69-a5e1be71ff04",
   "metadata": {},
   "outputs": [
    {
     "name": "stdout",
     "output_type": "stream",
     "text": [
      "[58.43824485]\n",
      "0.22484370231270212\n",
      "{'copy_X': True, 'fit_intercept': True, 'n_jobs': None, 'positive': False}\n",
      "0.9780375922939173\n"
     ]
    }
   ],
   "source": [
    "print(linear_model.coef_)\n",
    "print(linear_model.intercept_)\n",
    "#y=81.3124x-0.5121\n",
    "print(linear_model.get_params()) #输出model的参数设置\n",
    "print(linear_model.score(X,y)) #输出model的准确度"
   ]
  },
  {
   "cell_type": "code",
   "execution_count": 35,
   "id": "d47839dd-3bef-48b3-a8da-fb8f2621718b",
   "metadata": {},
   "outputs": [
    {
     "name": "stdout",
     "output_type": "stream",
     "text": [
      "[[  1.  43. 147.]\n",
      " [  2.  37. 968.]\n",
      " [  3.  97. 235.]]\n",
      "[[-1.22474487 -0.59299945 -0.82328243]\n",
      " [ 0.         -0.81537425  1.40745974]\n",
      " [ 1.22474487  1.4083737  -0.5841773 ]]\n",
      "[[  1.  43. 147.]\n",
      " [  2.  37. 968.]\n",
      " [  3.  97. 235.]]\n",
      "[[-1.22474487 -0.59299945 -0.82328243]\n",
      " [ 0.         -0.81537425  1.40745974]\n",
      " [ 1.22474487  1.4083737  -0.5841773 ]]\n"
     ]
    }
   ],
   "source": [
    "#normalization标准化数据\n",
    "a=np.array([[1,43,147],\n",
    "            [2,37,968],\n",
    "            [3,97,235]],dtype=np.float64)\n",
    "# a是3*3,每列表示一个属性\n",
    "# 每列减去均值再除以方差\n",
    "print(a)\n",
    "a=preprocessing.scale(a)\n",
    "print(a)\n",
    "#也可以用StandardScaler\n",
    "a=np.array([[1,43,147],\n",
    "            [2,37,968],\n",
    "            [3,97,235]],dtype=np.float64)\n",
    "print(a)\n",
    "a=StandardScaler().fit_transform(a)\n",
    "print(a)"
   ]
  },
  {
   "cell_type": "code",
   "execution_count": null,
   "id": "158bb7d4-5aec-4244-84de-e2f5f56caf91",
   "metadata": {},
   "outputs": [],
   "source": [
    "#cross_validation交叉验证"
   ]
  }
 ],
 "metadata": {
  "kernelspec": {
   "display_name": "Python 3 (ipykernel)",
   "language": "python",
   "name": "python3"
  },
  "language_info": {
   "codemirror_mode": {
    "name": "ipython",
    "version": 3
   },
   "file_extension": ".py",
   "mimetype": "text/x-python",
   "name": "python",
   "nbconvert_exporter": "python",
   "pygments_lexer": "ipython3",
   "version": "3.9.18"
  }
 },
 "nbformat": 4,
 "nbformat_minor": 5
}
