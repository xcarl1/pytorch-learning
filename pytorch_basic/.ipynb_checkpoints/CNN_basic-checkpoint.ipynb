{
 "cells": [
  {
   "cell_type": "code",
   "execution_count": 13,
   "id": "7d06ab57-5c19-4808-b831-7319e509a3f8",
   "metadata": {},
   "outputs": [],
   "source": [
    "import torch\n",
    "import numpy as np\n",
    "import torch.nn.functional as F #导入relu函数\n",
    "from torch.utils.data import DataLoader\n",
    "from torchvision import transforms\n",
    "from torchvision import datasets\n",
    "import torch.optim as optim\n",
    "import matplotlib\n",
    "from matplotlib import pyplot as plt"
   ]
  },
  {
   "cell_type": "code",
   "execution_count": 2,
   "id": "a1f9dbcf-41c9-494f-8e5c-9dce3f4964cf",
   "metadata": {},
   "outputs": [
    {
     "name": "stdout",
     "output_type": "stream",
     "text": [
      "torch.Size([1, 5, 100, 100])\n",
      "torch.Size([1, 10, 98, 98])\n",
      "torch.Size([10, 5, 3, 3])\n"
     ]
    }
   ],
   "source": [
    "#简单了解\n",
    "in_channels=5\n",
    "out_channels=10\n",
    "kernel_size=3\n",
    "batch_size=1\n",
    "height,width=100,100\n",
    "input=torch.randn(batch_size,in_channels,width,height)\n",
    "conv_layer=torch.nn.Conv2d(in_channels,out_channels,kernel_size)\n",
    "output=conv_layer(input)\n",
    "print(input.shape)\n",
    "print(output.shape)\n",
    "print(conv_layer.weight.shape)"
   ]
  },
  {
   "cell_type": "code",
   "execution_count": 3,
   "id": "dfbbc2c8-57af-4b1a-85f7-3cb31f6b9515",
   "metadata": {},
   "outputs": [
    {
     "name": "stdout",
     "output_type": "stream",
     "text": [
      "tensor([[[[ 93., 117.,  63.],\n",
      "          [120., 253., 142.],\n",
      "          [ 44.,  93.,  60.]]]], grad_fn=<ConvolutionBackward0>)\n"
     ]
    }
   ],
   "source": [
    "#加入padding，可以为卷积层指定weight\n",
    "input=[1,2,3,4,5,\n",
    "       5,4,3,2,1,\n",
    "       1,2,3,4,5,\n",
    "       0,9,8,7,6,\n",
    "       1,2,3,4,5]\n",
    "input=torch.Tensor(input).view(1,1,5,5)\n",
    "conv_layer=torch.nn.Conv2d(1,1,padding=1,kernel_size=3,stride=2,bias=0)#也可以指定步长，默认步长是1\n",
    "kernel=[1,2,3,4,5,6,7,8,9]\n",
    "kernel=torch.Tensor(kernel).view(1,1,3,3)\n",
    "#注意这种写法是不对的，conv_layer.weight=kernel，因为weight是一个对象\n",
    "conv_layer.weight.data=kernel.data\n",
    "output=conv_layer(input)\n",
    "print(output)"
   ]
  },
  {
   "cell_type": "code",
   "execution_count": 4,
   "id": "56876878-8ee7-4bd6-ac4f-5c027d619920",
   "metadata": {},
   "outputs": [
    {
     "name": "stdout",
     "output_type": "stream",
     "text": [
      "tensor([[[[7., 5.],\n",
      "          [8., 9.]]]])\n",
      "torch.Size([1, 1, 2, 2])\n"
     ]
    }
   ],
   "source": [
    "#最大池化层怎么写\n",
    "input=[1,2,3,4,\n",
    "       7,6,5,4,\n",
    "       4,3,2,1,\n",
    "       7,8,9,0]\n",
    "input=torch.Tensor(input).view(1,1,4,4)\n",
    "pool_layer=torch.nn.MaxPool2d(kernel_size=2)\n",
    "output=pool_layer(input)\n",
    "print(output)\n",
    "print(output.shape)"
   ]
  },
  {
   "cell_type": "code",
   "execution_count": 5,
   "id": "95d71f89-6dd7-48d6-af6b-9f742fd71e09",
   "metadata": {},
   "outputs": [],
   "source": [
    "#画图准备\n",
    "accuracy_result=[]"
   ]
  },
  {
   "cell_type": "code",
   "execution_count": 6,
   "id": "e5c37089-0fc3-4573-992c-1f4bbbbac87a",
   "metadata": {},
   "outputs": [],
   "source": [
    "#加载数据集\n",
    "batch_size=64\n",
    "transform=transforms.Compose([transforms.ToTensor(),transforms.Normalize(mean=[0.1307],std=[0.3081])])\n",
    "train_data=datasets.MNIST(root='C:/Users/Administrator/Desktop/datasets/Mnist_download',train=True,download=False,transform=transform)\n",
    "train_loader=DataLoader(train_data,shuffle=True,batch_size=batch_size)\n",
    "test_data=datasets.MNIST(root='C:/Users/Administrator/Desktop/datasets/Mnist_download',train=False,download=False,transform=transform)\n",
    "test_loader=DataLoader(test_data,shuffle=True,batch_size=batch_size)"
   ]
  },
  {
   "cell_type": "code",
   "execution_count": 7,
   "id": "71ec658d-984d-4960-9c90-482434435ed9",
   "metadata": {},
   "outputs": [
    {
     "data": {
      "text/plain": [
       "Net(\n",
       "  (conv_layer1): Conv2d(1, 10, kernel_size=(5, 5), stride=(1, 1))\n",
       "  (pooling_layer): MaxPool2d(kernel_size=2, stride=2, padding=0, dilation=1, ceil_mode=False)\n",
       "  (conv_layer2): Conv2d(10, 20, kernel_size=(5, 5), stride=(1, 1))\n",
       "  (linear_layer): Linear(in_features=320, out_features=10, bias=True)\n",
       ")"
      ]
     },
     "execution_count": 7,
     "metadata": {},
     "output_type": "execute_result"
    }
   ],
   "source": [
    "#定义一个简单的卷积神经网络\n",
    "class Net(torch.nn.Module):\n",
    "    def __init__(self):\n",
    "        super(Net,self).__init__()\n",
    "        self.conv_layer1=torch.nn.Conv2d(1,10,kernel_size=5)\n",
    "        self.pooling_layer=torch.nn.MaxPool2d(2)\n",
    "        self.conv_layer2=torch.nn.Conv2d(10,20,kernel_size=5)\n",
    "        self.linear_layer=torch.nn.Linear(320,10)\n",
    "\n",
    "    def forward(self,x):\n",
    "        batch_size=x.size(0)\n",
    "        x=F.relu(self.conv_layer1(x))\n",
    "        x=self.pooling_layer(x)\n",
    "        x=F.relu(self.conv_layer2(x))\n",
    "        x=self.pooling_layer(x)\n",
    "        x=x.view(batch_size,-1)\n",
    "        x=self.linear_layer(x)\n",
    "        return x\n",
    "conv_model=Net()\n",
    "device=torch.device('cuda' if torch.cuda.is_available() else \"cpu\")\n",
    "conv_model.to(device)"
   ]
  },
  {
   "cell_type": "code",
   "execution_count": 10,
   "id": "f893b6f7-aed1-4747-a6f3-30be33a404c0",
   "metadata": {},
   "outputs": [],
   "source": [
    "#定义损失和优化\n",
    "criterion=torch.nn.CrossEntropyLoss()\n",
    "optimizer=optim.SGD(conv_model.parameters(),lr=0.01,momentum=0.5)"
   ]
  },
  {
   "cell_type": "code",
   "execution_count": 11,
   "id": "aa27367d-3a71-44bc-8aac-c6c6f26becaa",
   "metadata": {},
   "outputs": [],
   "source": [
    "#训练和测试\n",
    "def train(epoch):\n",
    "    loss_running=0.0\n",
    "    for i,data in enumerate(train_loader,0):\n",
    "        input,labels=data #prepare data\n",
    "        input,labels=input.to(device),labels.to(device)\n",
    "        output=conv_model(input) #forward\n",
    "        loss=criterion(output,labels)\n",
    "        optimizer.zero_grad() \n",
    "        loss.backward() #backward\n",
    "        optimizer.step() #updata\n",
    "        loss_running+=loss.item()\n",
    "        if i%300==299:\n",
    "            print(\"[%d,%d],average_loss is:%.4f\"%(epoch+1,i+1,loss_running/200))\n",
    "            loss_running=0\n",
    "def test():\n",
    "    correct=0\n",
    "    total=0\n",
    "    with torch.no_grad():\n",
    "        for data in test_loader:\n",
    "            input,labels=data\n",
    "            input,labels=input.to(device),labels.to(device)\n",
    "            output=conv_model(input)\n",
    "            output=torch.max(output,dim=1)\n",
    "            correct+=torch.sum(output.indices==labels).item()\n",
    "            total+=labels.size(0)\n",
    "        print(\"The test_data accuracy is:%.4f\"%(correct/total))\n",
    "        accuracy_result.append(correct/total)       "
   ]
  },
  {
   "cell_type": "code",
   "execution_count": 12,
   "id": "abc00d77-b96a-440d-aa40-e072d9e7a1d5",
   "metadata": {},
   "outputs": [
    {
     "name": "stdout",
     "output_type": "stream",
     "text": [
      "[1,300],average_loss is:0.9789\n",
      "[1,600],average_loss is:0.2929\n",
      "[1,900],average_loss is:0.2127\n",
      "The test_data accuracy is:0.9666\n",
      "[2,300],average_loss is:0.1707\n",
      "[2,600],average_loss is:0.1385\n",
      "[2,900],average_loss is:0.1334\n",
      "The test_data accuracy is:0.9773\n",
      "[3,300],average_loss is:0.1224\n",
      "[3,600],average_loss is:0.1063\n",
      "[3,900],average_loss is:0.1010\n",
      "The test_data accuracy is:0.9833\n",
      "[4,300],average_loss is:0.0926\n",
      "[4,600],average_loss is:0.0923\n",
      "[4,900],average_loss is:0.0862\n",
      "The test_data accuracy is:0.9822\n",
      "[5,300],average_loss is:0.0742\n",
      "[5,600],average_loss is:0.0830\n",
      "[5,900],average_loss is:0.0805\n",
      "The test_data accuracy is:0.9866\n",
      "[6,300],average_loss is:0.0693\n",
      "[6,600],average_loss is:0.0715\n",
      "[6,900],average_loss is:0.0791\n",
      "The test_data accuracy is:0.9871\n",
      "[7,300],average_loss is:0.0679\n",
      "[7,600],average_loss is:0.0673\n",
      "[7,900],average_loss is:0.0641\n",
      "The test_data accuracy is:0.9853\n",
      "[8,300],average_loss is:0.0639\n",
      "[8,600],average_loss is:0.0574\n",
      "[8,900],average_loss is:0.0607\n",
      "The test_data accuracy is:0.9867\n",
      "[9,300],average_loss is:0.0547\n",
      "[9,600],average_loss is:0.0578\n",
      "[9,900],average_loss is:0.0577\n",
      "The test_data accuracy is:0.9873\n",
      "[10,300],average_loss is:0.0518\n",
      "[10,600],average_loss is:0.0567\n",
      "[10,900],average_loss is:0.0502\n",
      "The test_data accuracy is:0.9873\n"
     ]
    }
   ],
   "source": [
    "if __name__=='__main__':\n",
    "    for epoch in range(10):\n",
    "        train(epoch)\n",
    "        test()"
   ]
  },
  {
   "cell_type": "code",
   "execution_count": 15,
   "id": "1049557e-15bc-43ce-8d2d-c62df78d75b7",
   "metadata": {},
   "outputs": [
    {
     "data": {
      "text/plain": [
       "[<matplotlib.lines.Line2D at 0x1c19fc083d0>]"
      ]
     },
     "execution_count": 15,
     "metadata": {},
     "output_type": "execute_result"
    },
    {
     "data": {
      "image/png": "[encoded data removed]",
      "text/plain": [
       "<Figure size 640x480 with 1 Axes>"
      ]
     },
     "metadata": {},
     "output_type": "display_data"
    }
   ],
   "source": [
    "plt.figure()\n",
    "plt.title(\"The test accuracy for each epoch\")\n",
    "plt.plot(list(range(1,11)),accuracy_result)"
   ]
  },
  {
   "cell_type": "code",
   "execution_count": null,
   "id": "40363a58-a540-4f3e-9702-15e07b0beac6",
   "metadata": {},
   "outputs": [],
   "source": []
  }
 ],
 "metadata": {
  "kernelspec": {
   "display_name": "Python 3 (ipykernel)",
   "language": "python",
   "name": "python3"
  },
  "language_info": {
   "codemirror_mode": {
    "name": "ipython",
    "version": 3
   },
   "file_extension": ".py",
   "mimetype": "text/x-python",
   "name": "python",
   "nbconvert_exporter": "python",
   "pygments_lexer": "ipython3",
   "version": "3.9.18"
  }
 },
 "nbformat": 4,
 "nbformat_minor": 5
}
