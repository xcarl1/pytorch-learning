{
 "cells": [
  {
   "cell_type": "markdown",
   "id": "8b0a98a0-d593-4615-8000-9cec83ce4591",
   "metadata": {},
   "source": [
    "# 当输入的特征多维时"
   ]
  },
  {
   "cell_type": "markdown",
   "id": "43f7c5b9-a4ab-47a9-b8ba-d854e62de9ef",
   "metadata": {},
   "source": [
    "# 输入的数据集\n",
    "[X] [Y]  \n",
    "[例](file:///C:/Users/Administrator/Desktop/1.png)"
   ]
  },
  {
   "cell_type": "code",
   "execution_count": 25,
   "id": "27eb6916-5ae4-4443-be01-563613f01b1c",
   "metadata": {},
   "outputs": [],
   "source": [
    "import torch\n",
    "import numpy as np"
   ]
  },
  {
   "cell_type": "code",
   "execution_count": 26,
   "id": "12aa3fa2-f660-4d10-a3fd-18173dac9d4c",
   "metadata": {},
   "outputs": [],
   "source": [
    "#二分类\n",
    "#构建模型的时候，修改输入输出的维度\n",
    "class Model(torch.nn.Module):\n",
    "    def __init__(self):\n",
    "        super(Model,self).__init__()\n",
    "        self.linear=torch.nn.Linear(8,1) #输入的是8维，输出的是1维\n",
    "        self.sigmoid=torch.nn.Sigmoid()\n",
    "\n",
    "    def forward(self,x):\n",
    "        X=self.sigmoid(self.linear(x))\n",
    "        return X\n",
    "model=Model()"
   ]
  },
  {
   "cell_type": "code",
   "execution_count": 27,
   "id": "3bd53755-40e5-4990-85b2-ff79e31b8194",
   "metadata": {},
   "outputs": [],
   "source": [
    "xy=np.loadtxt('diabetes.csv.gz',delimiter=',',dtype=np.float32) #读取csv的压缩文件\n",
    "x_data=torch.from_numpy(xy[:,:-1]) #读取输入值，是所有行，加上第一列到倒数第一列，倒数第一列不取\n",
    "y_data=torch.from_numpy(xy[:,[-1]]) #读取输出值，是最后一列\n",
    "#最后的x_data和y_data最后都是一个tensor"
   ]
  },
  {
   "cell_type": "code",
   "execution_count": 28,
   "id": "6e3a4ee7-86a3-406c-a596-223bd2e98fe0",
   "metadata": {},
   "outputs": [],
   "source": [
    "#Linear(8,6)->Linear(6,4)->Linear(4,1)\n",
    "#N*8->N*6->N*4->N*1\n",
    "#构造class\n",
    "class Model(torch.nn.Module):\n",
    "    def __init__(self):\n",
    "        super(Model,self).__init__()\n",
    "        self.linear1=torch.nn.Linear(8,6)\n",
    "        self.linear2=torch.nn.Linear(6,4)\n",
    "        self.linear3=torch.nn.Linear(4,1)\n",
    "        self.sigmoid=torch.nn.Sigmoid() #调用nn下的sigmoid\n",
    "    def forward(self,x):\n",
    "        x=self.sigmoid(self.linear1(x))\n",
    "        x=self.sigmoid(self.linear2(x))\n",
    "        x=self.sigmoid(self.linear3(x))\n",
    "        return x\n",
    "model=Model()"
   ]
  },
  {
   "cell_type": "code",
   "execution_count": 29,
   "id": "eb9c9418-3092-43da-a11d-71080c0bf791",
   "metadata": {},
   "outputs": [],
   "source": [
    "#构造损失函数和优化方法\n",
    "criterion=torch.nn.BCELoss(size_average=True)\n",
    "optimizer=torch.optim.SGD(model.parameters(),lr=0.1)"
   ]
  },
  {
   "cell_type": "code",
   "execution_count": 30,
   "id": "b414b98a-f3e2-4b57-aad8-fd5ee3f56d83",
   "metadata": {},
   "outputs": [
    {
     "name": "stdout",
     "output_type": "stream",
     "text": [
      "0 0.6842203736305237\n",
      "1 0.6803025007247925\n",
      "2 0.6767839193344116\n",
      "3 0.6736236810684204\n",
      "4 0.670785129070282\n",
      "5 0.668235182762146\n",
      "6 0.6659441590309143\n",
      "7 0.6638855338096619\n",
      "8 0.6620355248451233\n",
      "9 0.6603726744651794\n",
      "10 0.6588777303695679\n",
      "11 0.6575335264205933\n",
      "12 0.6563246846199036\n",
      "13 0.6552374362945557\n",
      "14 0.6542592644691467\n",
      "15 0.6533792614936829\n",
      "16 0.6525871753692627\n",
      "17 0.6518741846084595\n",
      "18 0.6512324810028076\n",
      "19 0.6506545543670654\n",
      "20 0.6501342058181763\n",
      "21 0.6496654152870178\n",
      "22 0.6492432355880737\n",
      "23 0.6488627195358276\n",
      "24 0.6485198140144348\n",
      "25 0.6482108235359192\n",
      "26 0.6479322910308838\n",
      "27 0.6476812362670898\n",
      "28 0.6474547982215881\n",
      "29 0.6472506523132324\n",
      "30 0.6470664739608765\n",
      "31 0.6469003558158875\n",
      "32 0.6467505693435669\n",
      "33 0.6466152667999268\n",
      "34 0.6464933156967163\n",
      "35 0.6463832259178162\n",
      "36 0.6462838053703308\n",
      "37 0.6461941003799438\n",
      "38 0.6461130380630493\n",
      "39 0.6460399031639099\n",
      "40 0.6459739208221436\n",
      "41 0.6459142565727234\n",
      "42 0.6458602547645569\n",
      "43 0.6458116173744202\n",
      "44 0.6457675695419312\n",
      "45 0.6457278728485107\n",
      "46 0.6456918716430664\n",
      "47 0.6456593871116638\n",
      "48 0.6456300616264343\n",
      "49 0.645603358745575\n",
      "50 0.6455793976783752\n",
      "51 0.6455575823783875\n",
      "52 0.6455379128456116\n",
      "53 0.6455201506614685\n",
      "54 0.6455039978027344\n",
      "55 0.6454893946647644\n",
      "56 0.6454761028289795\n",
      "57 0.6454641222953796\n",
      "58 0.6454532742500305\n",
      "59 0.6454433798789978\n",
      "60 0.6454344391822815\n",
      "61 0.645426332950592\n",
      "62 0.6454189419746399\n",
      "63 0.6454122066497803\n",
      "64 0.645406186580658\n",
      "65 0.6454005241394043\n",
      "66 0.6453955173492432\n",
      "67 0.6453908681869507\n",
      "68 0.6453866958618164\n",
      "69 0.645382821559906\n",
      "70 0.6453793048858643\n",
      "71 0.6453760862350464\n",
      "72 0.6453732848167419\n",
      "73 0.6453705430030823\n",
      "74 0.6453680396080017\n",
      "75 0.6453657746315002\n",
      "76 0.6453636884689331\n",
      "77 0.6453617215156555\n",
      "78 0.6453599333763123\n",
      "79 0.6453582644462585\n",
      "80 0.6453567147254944\n",
      "81 0.6453553438186646\n",
      "82 0.6453540325164795\n",
      "83 0.6453527808189392\n",
      "84 0.6453515887260437\n",
      "85 0.6453505754470825\n",
      "86 0.6453495025634766\n",
      "87 0.6453486084938049\n",
      "88 0.6453476548194885\n",
      "89 0.6453467607498169\n",
      "90 0.6453460454940796\n",
      "91 0.645345151424408\n",
      "92 0.6453444361686707\n",
      "93 0.6453437209129333\n",
      "94 0.6453430652618408\n",
      "95 0.6453424096107483\n",
      "96 0.6453417539596558\n",
      "97 0.6453412175178528\n",
      "98 0.645340621471405\n",
      "99 0.6453400254249573\n"
     ]
    }
   ],
   "source": [
    "for epoch in range(100):\n",
    "    #Forward\n",
    "    y_pred=model(x_data) #The program has not use Mini-batch for training.We shall talk about Dataloader later\n",
    "    loss=criterion(y_pred,y_data)\n",
    "    print(epoch,loss.item())\n",
    "\n",
    "    #backward\n",
    "    optimizer.zero_grad()\n",
    "    loss.backward()\n",
    "\n",
    "    #update\n",
    "    optimizer.step()"
   ]
  },
  {
   "cell_type": "code",
   "execution_count": null,
   "id": "f18d2362-b2de-425d-b9d4-ba2f54ccc4f2",
   "metadata": {},
   "outputs": [],
   "source": []
  }
 ],
 "metadata": {
  "kernelspec": {
   "display_name": "Python 3 (ipykernel)",
   "language": "python",
   "name": "python3"
  },
  "language_info": {
   "codemirror_mode": {
    "name": "ipython",
    "version": 3
   },
   "file_extension": ".py",
   "mimetype": "text/x-python",
   "name": "python",
   "nbconvert_exporter": "python",
   "pygments_lexer": "ipython3",
   "version": "3.9.18"
  }
 },
 "nbformat": 4,
 "nbformat_minor": 5
}
